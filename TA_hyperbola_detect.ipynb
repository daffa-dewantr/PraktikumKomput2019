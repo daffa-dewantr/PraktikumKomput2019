{
  "nbformat": 4,
  "nbformat_minor": 0,
  "metadata": {
    "colab": {
      "name": "TA_hyperbola_detect.ipynb",
      "provenance": [],
      "collapsed_sections": [],
      "authorship_tag": "ABX9TyMnSrF+psM2cCZ2iIo9s2pC",
      "include_colab_link": true
    },
    "kernelspec": {
      "display_name": "Python 3",
      "name": "python3"
    },
    "language_info": {
      "name": "python"
    }
  },
  "cells": [
    {
      "cell_type": "markdown",
      "metadata": {
        "id": "view-in-github",
        "colab_type": "text"
      },
      "source": [
        "<a href=\"https://colab.research.google.com/github/daffa-dewantr/PraktikumKomput2019/blob/master/TA_hyperbola_detect.ipynb\" target=\"_parent\"><img src=\"https://colab.research.google.com/assets/colab-badge.svg\" alt=\"Open In Colab\"/></a>"
      ]
    },
    {
      "cell_type": "code",
      "metadata": {
        "colab": {
          "base_uri": "https://localhost:8080/",
          "height": 237
        },
        "id": "XHxgQ2e8Z2z8",
        "outputId": "8ad754f2-fe58-4c42-ab3f-0b64959d6607"
      },
      "source": [
        "import tensorflow as tf\n",
        "print(tf.__version__)\n",
        "\n",
        "device_name = tf.test.gpu_device_name()\n",
        "if device_name != '/device:GPU:0':\n",
        "  raise SystemError('GPU device not found')\n",
        "print('Found GPU at: {}'.format(device_name))"
      ],
      "execution_count": null,
      "outputs": [
        {
          "output_type": "stream",
          "text": [
            "2.5.0\n"
          ],
          "name": "stdout"
        },
        {
          "output_type": "error",
          "ename": "SystemError",
          "evalue": "ignored",
          "traceback": [
            "\u001b[0;31m---------------------------------------------------------------------------\u001b[0m",
            "\u001b[0;31mSystemError\u001b[0m                               Traceback (most recent call last)",
            "\u001b[0;32m<ipython-input-2-39e312deaf9d>\u001b[0m in \u001b[0;36m<module>\u001b[0;34m()\u001b[0m\n\u001b[1;32m      4\u001b[0m \u001b[0mdevice_name\u001b[0m \u001b[0;34m=\u001b[0m \u001b[0mtf\u001b[0m\u001b[0;34m.\u001b[0m\u001b[0mtest\u001b[0m\u001b[0;34m.\u001b[0m\u001b[0mgpu_device_name\u001b[0m\u001b[0;34m(\u001b[0m\u001b[0;34m)\u001b[0m\u001b[0;34m\u001b[0m\u001b[0;34m\u001b[0m\u001b[0m\n\u001b[1;32m      5\u001b[0m \u001b[0;32mif\u001b[0m \u001b[0mdevice_name\u001b[0m \u001b[0;34m!=\u001b[0m \u001b[0;34m'/device:GPU:0'\u001b[0m\u001b[0;34m:\u001b[0m\u001b[0;34m\u001b[0m\u001b[0;34m\u001b[0m\u001b[0m\n\u001b[0;32m----> 6\u001b[0;31m   \u001b[0;32mraise\u001b[0m \u001b[0mSystemError\u001b[0m\u001b[0;34m(\u001b[0m\u001b[0;34m'GPU device not found'\u001b[0m\u001b[0;34m)\u001b[0m\u001b[0;34m\u001b[0m\u001b[0;34m\u001b[0m\u001b[0m\n\u001b[0m\u001b[1;32m      7\u001b[0m \u001b[0mprint\u001b[0m\u001b[0;34m(\u001b[0m\u001b[0;34m'Found GPU at: {}'\u001b[0m\u001b[0;34m.\u001b[0m\u001b[0mformat\u001b[0m\u001b[0;34m(\u001b[0m\u001b[0mdevice_name\u001b[0m\u001b[0;34m)\u001b[0m\u001b[0;34m)\u001b[0m\u001b[0;34m\u001b[0m\u001b[0;34m\u001b[0m\u001b[0m\n",
            "\u001b[0;31mSystemError\u001b[0m: GPU device not found"
          ]
        }
      ]
    },
    {
      "cell_type": "markdown",
      "metadata": {
        "id": "lKtBhroPotmP"
      },
      "source": [
        "## Cloning TFOD Github"
      ]
    },
    {
      "cell_type": "code",
      "metadata": {
        "colab": {
          "base_uri": "https://localhost:8080/"
        },
        "id": "1dAbBdjqgSPu",
        "outputId": "affa265a-cc5b-4226-a450-9c386de0324b"
      },
      "source": [
        "!git clone https://github.com/tensorflow/models.git\n"
      ],
      "execution_count": null,
      "outputs": [
        {
          "output_type": "stream",
          "text": [
            "Cloning into 'models'...\n",
            "remote: Enumerating objects: 59504, done.\u001b[K\n",
            "remote: Counting objects: 100% (984/984), done.\u001b[K\n",
            "remote: Compressing objects: 100% (353/353), done.\u001b[K\n",
            "remote: Total 59504 (delta 674), reused 892 (delta 613), pack-reused 58520\u001b[K\n",
            "Receiving objects: 100% (59504/59504), 573.67 MiB | 30.21 MiB/s, done.\n",
            "Resolving deltas: 100% (41306/41306), done.\n"
          ],
          "name": "stdout"
        }
      ]
    },
    {
      "cell_type": "code",
      "metadata": {
        "colab": {
          "base_uri": "https://localhost:8080/"
        },
        "id": "6_lVeP24pQpX",
        "outputId": "1b8d0c0a-385f-4025-a04b-81a22cfe6d0e"
      },
      "source": [
        "cd /content/models/research"
      ],
      "execution_count": null,
      "outputs": [
        {
          "output_type": "stream",
          "text": [
            "/content/models/research\n"
          ],
          "name": "stdout"
        }
      ]
    },
    {
      "cell_type": "code",
      "metadata": {
        "id": "RQrJEOyGpL39"
      },
      "source": [
        "!protoc object_detection/protos/*.proto --python_out=."
      ],
      "execution_count": null,
      "outputs": []
    },
    {
      "cell_type": "code",
      "metadata": {
        "colab": {
          "base_uri": "https://localhost:8080/"
        },
        "id": "1fqcsvWPpHJQ",
        "outputId": "f11fb546-b68c-4cc4-af01-7e01423bab9e"
      },
      "source": [
        "!git clone https://github.com/cocodataset/cocoapi.git"
      ],
      "execution_count": null,
      "outputs": [
        {
          "output_type": "stream",
          "text": [
            "Cloning into 'cocoapi'...\n",
            "remote: Enumerating objects: 975, done.\u001b[K\n",
            "remote: Total 975 (delta 0), reused 0 (delta 0), pack-reused 975\u001b[K\n",
            "Receiving objects: 100% (975/975), 11.72 MiB | 28.12 MiB/s, done.\n",
            "Resolving deltas: 100% (576/576), done.\n"
          ],
          "name": "stdout"
        }
      ]
    },
    {
      "cell_type": "code",
      "metadata": {
        "colab": {
          "base_uri": "https://localhost:8080/"
        },
        "id": "NG68CIxRpXAP",
        "outputId": "ed4cd5bc-1aca-4ca3-899c-c7570b6dd045"
      },
      "source": [
        "cd cocoapi/PythonAPI"
      ],
      "execution_count": null,
      "outputs": [
        {
          "output_type": "stream",
          "text": [
            "/content/models/research/cocoapi/PythonAPI\n"
          ],
          "name": "stdout"
        }
      ]
    },
    {
      "cell_type": "code",
      "metadata": {
        "colab": {
          "base_uri": "https://localhost:8080/"
        },
        "id": "FZ1cDifNpCe-",
        "outputId": "18d43fe3-7b3c-49eb-b35f-347dc90beb84"
      },
      "source": [
        "!make"
      ],
      "execution_count": null,
      "outputs": [
        {
          "output_type": "stream",
          "text": [
            "python setup.py build_ext --inplace\n",
            "running build_ext\n",
            "cythoning pycocotools/_mask.pyx to pycocotools/_mask.c\n",
            "/usr/local/lib/python3.7/dist-packages/Cython/Compiler/Main.py:369: FutureWarning: Cython directive 'language_level' not set, using 2 for now (Py2). This will change in a later release! File: /content/models/research/cocoapi/PythonAPI/pycocotools/_mask.pyx\n",
            "  tree = Parsing.p_module(s, pxd, full_module_name)\n",
            "building 'pycocotools._mask' extension\n",
            "creating build\n",
            "creating build/common\n",
            "creating build/temp.linux-x86_64-3.7\n",
            "creating build/temp.linux-x86_64-3.7/pycocotools\n",
            "x86_64-linux-gnu-gcc -pthread -Wno-unused-result -Wsign-compare -DNDEBUG -g -fwrapv -O2 -Wall -g -fdebug-prefix-map=/build/python3.7-LSlbJj/python3.7-3.7.11=. -fstack-protector-strong -Wformat -Werror=format-security -g -fdebug-prefix-map=/build/python3.7-LSlbJj/python3.7-3.7.11=. -fstack-protector-strong -Wformat -Werror=format-security -Wdate-time -D_FORTIFY_SOURCE=2 -fPIC -I/usr/local/lib/python3.7/dist-packages/numpy/core/include -I../common -I/usr/include/python3.7m -c ../common/maskApi.c -o build/temp.linux-x86_64-3.7/../common/maskApi.o -Wno-cpp -Wno-unused-function -std=c99\n",
            "\u001b[01m\u001b[K../common/maskApi.c:\u001b[m\u001b[K In function ‘\u001b[01m\u001b[KrleDecode\u001b[m\u001b[K’:\n",
            "\u001b[01m\u001b[K../common/maskApi.c:46:7:\u001b[m\u001b[K \u001b[01;35m\u001b[Kwarning: \u001b[m\u001b[Kthis ‘\u001b[01m\u001b[Kfor\u001b[m\u001b[K’ clause does not guard... [\u001b[01;35m\u001b[K-Wmisleading-indentation\u001b[m\u001b[K]\n",
            "       \u001b[01;35m\u001b[Kfor\u001b[m\u001b[K( k=0; k<R[i].cnts[j]; k++ ) *(M++)=v; v=!v; }}\n",
            "       \u001b[01;35m\u001b[K^~~\u001b[m\u001b[K\n",
            "\u001b[01m\u001b[K../common/maskApi.c:46:49:\u001b[m\u001b[K \u001b[01;36m\u001b[Knote: \u001b[m\u001b[K...this statement, but the latter is misleadingly indented as if it were guarded by the ‘\u001b[01m\u001b[Kfor\u001b[m\u001b[K’\n",
            "       for( k=0; k<R[i].cnts[j]; k++ ) *(M++)=v; \u001b[01;36m\u001b[Kv\u001b[m\u001b[K=!v; }}\n",
            "                                                 \u001b[01;36m\u001b[K^\u001b[m\u001b[K\n",
            "\u001b[01m\u001b[K../common/maskApi.c:\u001b[m\u001b[K In function ‘\u001b[01m\u001b[KrleFrPoly\u001b[m\u001b[K’:\n",
            "\u001b[01m\u001b[K../common/maskApi.c:166:3:\u001b[m\u001b[K \u001b[01;35m\u001b[Kwarning: \u001b[m\u001b[Kthis ‘\u001b[01m\u001b[Kfor\u001b[m\u001b[K’ clause does not guard... [\u001b[01;35m\u001b[K-Wmisleading-indentation\u001b[m\u001b[K]\n",
            "   \u001b[01;35m\u001b[Kfor\u001b[m\u001b[K(j=0; j<k; j++) x[j]=(int)(scale*xy[j*2+0]+.5); x[k]=x[0];\n",
            "   \u001b[01;35m\u001b[K^~~\u001b[m\u001b[K\n",
            "\u001b[01m\u001b[K../common/maskApi.c:166:54:\u001b[m\u001b[K \u001b[01;36m\u001b[Knote: \u001b[m\u001b[K...this statement, but the latter is misleadingly indented as if it were guarded by the ‘\u001b[01m\u001b[Kfor\u001b[m\u001b[K’\n",
            "   for(j=0; j<k; j++) x[j]=(int)(scale*xy[j*2+0]+.5); \u001b[01;36m\u001b[Kx\u001b[m\u001b[K[k]=x[0];\n",
            "                                                      \u001b[01;36m\u001b[K^\u001b[m\u001b[K\n",
            "\u001b[01m\u001b[K../common/maskApi.c:167:3:\u001b[m\u001b[K \u001b[01;35m\u001b[Kwarning: \u001b[m\u001b[Kthis ‘\u001b[01m\u001b[Kfor\u001b[m\u001b[K’ clause does not guard... [\u001b[01;35m\u001b[K-Wmisleading-indentation\u001b[m\u001b[K]\n",
            "   \u001b[01;35m\u001b[Kfor\u001b[m\u001b[K(j=0; j<k; j++) y[j]=(int)(scale*xy[j*2+1]+.5); y[k]=y[0];\n",
            "   \u001b[01;35m\u001b[K^~~\u001b[m\u001b[K\n",
            "\u001b[01m\u001b[K../common/maskApi.c:167:54:\u001b[m\u001b[K \u001b[01;36m\u001b[Knote: \u001b[m\u001b[K...this statement, but the latter is misleadingly indented as if it were guarded by the ‘\u001b[01m\u001b[Kfor\u001b[m\u001b[K’\n",
            "   for(j=0; j<k; j++) y[j]=(int)(scale*xy[j*2+1]+.5); \u001b[01;36m\u001b[Ky\u001b[m\u001b[K[k]=y[0];\n",
            "                                                      \u001b[01;36m\u001b[K^\u001b[m\u001b[K\n",
            "\u001b[01m\u001b[K../common/maskApi.c:\u001b[m\u001b[K In function ‘\u001b[01m\u001b[KrleToString\u001b[m\u001b[K’:\n",
            "\u001b[01m\u001b[K../common/maskApi.c:212:7:\u001b[m\u001b[K \u001b[01;35m\u001b[Kwarning: \u001b[m\u001b[Kthis ‘\u001b[01m\u001b[Kif\u001b[m\u001b[K’ clause does not guard... [\u001b[01;35m\u001b[K-Wmisleading-indentation\u001b[m\u001b[K]\n",
            "       \u001b[01;35m\u001b[Kif\u001b[m\u001b[K(more) c |= 0x20; c+=48; s[p++]=c;\n",
            "       \u001b[01;35m\u001b[K^~\u001b[m\u001b[K\n",
            "\u001b[01m\u001b[K../common/maskApi.c:212:27:\u001b[m\u001b[K \u001b[01;36m\u001b[Knote: \u001b[m\u001b[K...this statement, but the latter is misleadingly indented as if it were guarded by the ‘\u001b[01m\u001b[Kif\u001b[m\u001b[K’\n",
            "       if(more) c |= 0x20; \u001b[01;36m\u001b[Kc\u001b[m\u001b[K+=48; s[p++]=c;\n",
            "                           \u001b[01;36m\u001b[K^\u001b[m\u001b[K\n",
            "\u001b[01m\u001b[K../common/maskApi.c:\u001b[m\u001b[K In function ‘\u001b[01m\u001b[KrleFrString\u001b[m\u001b[K’:\n",
            "\u001b[01m\u001b[K../common/maskApi.c:220:3:\u001b[m\u001b[K \u001b[01;35m\u001b[Kwarning: \u001b[m\u001b[Kthis ‘\u001b[01m\u001b[Kwhile\u001b[m\u001b[K’ clause does not guard... [\u001b[01;35m\u001b[K-Wmisleading-indentation\u001b[m\u001b[K]\n",
            "   \u001b[01;35m\u001b[Kwhile\u001b[m\u001b[K( s[m] ) m++; cnts=malloc(sizeof(uint)*m); m=0;\n",
            "   \u001b[01;35m\u001b[K^~~~~\u001b[m\u001b[K\n",
            "\u001b[01m\u001b[K../common/maskApi.c:220:22:\u001b[m\u001b[K \u001b[01;36m\u001b[Knote: \u001b[m\u001b[K...this statement, but the latter is misleadingly indented as if it were guarded by the ‘\u001b[01m\u001b[Kwhile\u001b[m\u001b[K’\n",
            "   while( s[m] ) m++; \u001b[01;36m\u001b[Kcnts\u001b[m\u001b[K=malloc(sizeof(uint)*m); m=0;\n",
            "                      \u001b[01;36m\u001b[K^~~~\u001b[m\u001b[K\n",
            "\u001b[01m\u001b[K../common/maskApi.c:228:5:\u001b[m\u001b[K \u001b[01;35m\u001b[Kwarning: \u001b[m\u001b[Kthis ‘\u001b[01m\u001b[Kif\u001b[m\u001b[K’ clause does not guard... [\u001b[01;35m\u001b[K-Wmisleading-indentation\u001b[m\u001b[K]\n",
            "     \u001b[01;35m\u001b[Kif\u001b[m\u001b[K(m>2) x+=(long) cnts[m-2]; cnts[m++]=(uint) x;\n",
            "     \u001b[01;35m\u001b[K^~\u001b[m\u001b[K\n",
            "\u001b[01m\u001b[K../common/maskApi.c:228:34:\u001b[m\u001b[K \u001b[01;36m\u001b[Knote: \u001b[m\u001b[K...this statement, but the latter is misleadingly indented as if it were guarded by the ‘\u001b[01m\u001b[Kif\u001b[m\u001b[K’\n",
            "     if(m>2) x+=(long) cnts[m-2]; \u001b[01;36m\u001b[Kcnts\u001b[m\u001b[K[m++]=(uint) x;\n",
            "                                  \u001b[01;36m\u001b[K^~~~\u001b[m\u001b[K\n",
            "\u001b[01m\u001b[K../common/maskApi.c:\u001b[m\u001b[K In function ‘\u001b[01m\u001b[KrleToBbox\u001b[m\u001b[K’:\n",
            "\u001b[01m\u001b[K../common/maskApi.c:141:31:\u001b[m\u001b[K \u001b[01;35m\u001b[Kwarning: \u001b[m\u001b[K‘\u001b[01m\u001b[Kxp\u001b[m\u001b[K’ may be used uninitialized in this function [\u001b[01;35m\u001b[K-Wmaybe-uninitialized\u001b[m\u001b[K]\n",
            "       if(j%2==0) xp=x; else if\u001b[01;35m\u001b[K(\u001b[m\u001b[Kxp<x) { ys=0; ye=h-1; }\n",
            "                               \u001b[01;35m\u001b[K^\u001b[m\u001b[K\n",
            "x86_64-linux-gnu-gcc -pthread -Wno-unused-result -Wsign-compare -DNDEBUG -g -fwrapv -O2 -Wall -g -fdebug-prefix-map=/build/python3.7-LSlbJj/python3.7-3.7.11=. -fstack-protector-strong -Wformat -Werror=format-security -g -fdebug-prefix-map=/build/python3.7-LSlbJj/python3.7-3.7.11=. -fstack-protector-strong -Wformat -Werror=format-security -Wdate-time -D_FORTIFY_SOURCE=2 -fPIC -I/usr/local/lib/python3.7/dist-packages/numpy/core/include -I../common -I/usr/include/python3.7m -c pycocotools/_mask.c -o build/temp.linux-x86_64-3.7/pycocotools/_mask.o -Wno-cpp -Wno-unused-function -std=c99\n",
            "creating build/lib.linux-x86_64-3.7\n",
            "creating build/lib.linux-x86_64-3.7/pycocotools\n",
            "x86_64-linux-gnu-gcc -pthread -shared -Wl,-O1 -Wl,-Bsymbolic-functions -Wl,-Bsymbolic-functions -Wl,-z,relro -Wl,-Bsymbolic-functions -Wl,-z,relro -g -fdebug-prefix-map=/build/python3.7-LSlbJj/python3.7-3.7.11=. -fstack-protector-strong -Wformat -Werror=format-security -Wdate-time -D_FORTIFY_SOURCE=2 build/temp.linux-x86_64-3.7/../common/maskApi.o build/temp.linux-x86_64-3.7/pycocotools/_mask.o -o build/lib.linux-x86_64-3.7/pycocotools/_mask.cpython-37m-x86_64-linux-gnu.so\n",
            "copying build/lib.linux-x86_64-3.7/pycocotools/_mask.cpython-37m-x86_64-linux-gnu.so -> pycocotools\n",
            "rm -rf build\n"
          ],
          "name": "stdout"
        }
      ]
    },
    {
      "cell_type": "code",
      "metadata": {
        "id": "Q0jTg64xpFEj"
      },
      "source": [
        "cp -r pycocotools /content/models/research "
      ],
      "execution_count": null,
      "outputs": []
    },
    {
      "cell_type": "code",
      "metadata": {
        "colab": {
          "base_uri": "https://localhost:8080/"
        },
        "id": "X1GMCILcpfM_",
        "outputId": "78000373-a691-4a7d-83e4-7ec04d63eba7"
      },
      "source": [
        "cd /content/models/research/"
      ],
      "execution_count": null,
      "outputs": [
        {
          "output_type": "stream",
          "text": [
            "/content/models/research\n"
          ],
          "name": "stdout"
        }
      ]
    },
    {
      "cell_type": "code",
      "metadata": {
        "colab": {
          "base_uri": "https://localhost:8080/",
          "height": 35
        },
        "id": "3lBU5g7vpfg8",
        "outputId": "ce200c7d-c954-46fd-a1ed-fe2c920f2f37"
      },
      "source": [
        "pwd"
      ],
      "execution_count": null,
      "outputs": [
        {
          "output_type": "execute_result",
          "data": {
            "application/vnd.google.colaboratory.intrinsic+json": {
              "type": "string"
            },
            "text/plain": [
              "'/content/models/research'"
            ]
          },
          "metadata": {
            "tags": []
          },
          "execution_count": 11
        }
      ]
    },
    {
      "cell_type": "markdown",
      "metadata": {
        "id": "vYZjsT-So4XJ"
      },
      "source": [
        "## Install Object Detection API"
      ]
    },
    {
      "cell_type": "code",
      "metadata": {
        "id": "lCyJQQiKo_UE"
      },
      "source": [
        "cp object_detection/packages/tf2/setup.py ."
      ],
      "execution_count": null,
      "outputs": []
    },
    {
      "cell_type": "code",
      "metadata": {
        "colab": {
          "base_uri": "https://localhost:8080/"
        },
        "id": "5xLVp8-SpjtY",
        "outputId": "6cd20ec5-d151-4111-c39c-542d6222949e"
      },
      "source": [
        "!python -m pip install ."
      ],
      "execution_count": null,
      "outputs": [
        {
          "output_type": "stream",
          "text": [
            "Processing /content/models/research\n",
            "\u001b[33m  DEPRECATION: A future pip version will change local packages to be built in-place without first copying to a temporary directory. We recommend you use --use-feature=in-tree-build to test your packages with this new behavior before it becomes the default.\n",
            "   pip 21.3 will remove support for this functionality. You can find discussion regarding this at https://github.com/pypa/pip/issues/7555.\u001b[0m\n",
            "Collecting avro-python3\n",
            "  Downloading avro-python3-1.10.2.tar.gz (38 kB)\n",
            "Collecting apache-beam\n",
            "  Downloading apache_beam-2.31.0-cp37-cp37m-manylinux2010_x86_64.whl (9.7 MB)\n",
            "\u001b[K     |████████████████████████████████| 9.7 MB 9.3 MB/s \n",
            "\u001b[?25hRequirement already satisfied: pillow in /usr/local/lib/python3.7/dist-packages (from object-detection==0.1) (7.1.2)\n",
            "Requirement already satisfied: lxml in /usr/local/lib/python3.7/dist-packages (from object-detection==0.1) (4.2.6)\n",
            "Requirement already satisfied: matplotlib in /usr/local/lib/python3.7/dist-packages (from object-detection==0.1) (3.2.2)\n",
            "Requirement already satisfied: Cython in /usr/local/lib/python3.7/dist-packages (from object-detection==0.1) (0.29.23)\n",
            "Requirement already satisfied: contextlib2 in /usr/local/lib/python3.7/dist-packages (from object-detection==0.1) (0.5.5)\n",
            "Collecting tf-slim\n",
            "  Downloading tf_slim-1.1.0-py2.py3-none-any.whl (352 kB)\n",
            "\u001b[K     |████████████████████████████████| 352 kB 34.2 MB/s \n",
            "\u001b[?25hRequirement already satisfied: six in /usr/local/lib/python3.7/dist-packages (from object-detection==0.1) (1.15.0)\n",
            "Requirement already satisfied: pycocotools in /usr/local/lib/python3.7/dist-packages (from object-detection==0.1) (2.0.2)\n",
            "Collecting lvis\n",
            "  Downloading lvis-0.5.3-py3-none-any.whl (14 kB)\n",
            "Requirement already satisfied: scipy in /usr/local/lib/python3.7/dist-packages (from object-detection==0.1) (1.4.1)\n",
            "Requirement already satisfied: pandas in /usr/local/lib/python3.7/dist-packages (from object-detection==0.1) (1.1.5)\n",
            "Requirement already satisfied: google-cloud-bigquery==1.21.0 in /usr/local/lib/python3.7/dist-packages (from object-detection==0.1) (1.21.0)\n",
            "Collecting tf-models-official\n",
            "  Downloading tf_models_official-2.5.1-py2.py3-none-any.whl (1.6 MB)\n",
            "\u001b[K     |████████████████████████████████| 1.6 MB 51.3 MB/s \n",
            "\u001b[?25hRequirement already satisfied: protobuf>=3.6.0 in /usr/local/lib/python3.7/dist-packages (from google-cloud-bigquery==1.21.0->object-detection==0.1) (3.17.3)\n",
            "Requirement already satisfied: google-resumable-media!=0.4.0,<0.5.0dev,>=0.3.1 in /usr/local/lib/python3.7/dist-packages (from google-cloud-bigquery==1.21.0->object-detection==0.1) (0.4.1)\n",
            "Requirement already satisfied: google-cloud-core<2.0dev,>=1.0.3 in /usr/local/lib/python3.7/dist-packages (from google-cloud-bigquery==1.21.0->object-detection==0.1) (1.0.3)\n",
            "Requirement already satisfied: google-api-core<2.0.0dev,>=1.14.0 in /usr/local/lib/python3.7/dist-packages (from google-cloud-core<2.0dev,>=1.0.3->google-cloud-bigquery==1.21.0->object-detection==0.1) (1.26.3)\n",
            "Requirement already satisfied: google-auth<2.0dev,>=1.21.1 in /usr/local/lib/python3.7/dist-packages (from google-api-core<2.0.0dev,>=1.14.0->google-cloud-core<2.0dev,>=1.0.3->google-cloud-bigquery==1.21.0->object-detection==0.1) (1.32.1)\n",
            "Requirement already satisfied: pytz in /usr/local/lib/python3.7/dist-packages (from google-api-core<2.0.0dev,>=1.14.0->google-cloud-core<2.0dev,>=1.0.3->google-cloud-bigquery==1.21.0->object-detection==0.1) (2018.9)\n",
            "Requirement already satisfied: setuptools>=40.3.0 in /usr/local/lib/python3.7/dist-packages (from google-api-core<2.0.0dev,>=1.14.0->google-cloud-core<2.0dev,>=1.0.3->google-cloud-bigquery==1.21.0->object-detection==0.1) (57.2.0)\n",
            "Requirement already satisfied: packaging>=14.3 in /usr/local/lib/python3.7/dist-packages (from google-api-core<2.0.0dev,>=1.14.0->google-cloud-core<2.0dev,>=1.0.3->google-cloud-bigquery==1.21.0->object-detection==0.1) (21.0)\n",
            "Requirement already satisfied: googleapis-common-protos<2.0dev,>=1.6.0 in /usr/local/lib/python3.7/dist-packages (from google-api-core<2.0.0dev,>=1.14.0->google-cloud-core<2.0dev,>=1.0.3->google-cloud-bigquery==1.21.0->object-detection==0.1) (1.53.0)\n",
            "Requirement already satisfied: requests<3.0.0dev,>=2.18.0 in /usr/local/lib/python3.7/dist-packages (from google-api-core<2.0.0dev,>=1.14.0->google-cloud-core<2.0dev,>=1.0.3->google-cloud-bigquery==1.21.0->object-detection==0.1) (2.23.0)\n",
            "Requirement already satisfied: rsa<5,>=3.1.4 in /usr/local/lib/python3.7/dist-packages (from google-auth<2.0dev,>=1.21.1->google-api-core<2.0.0dev,>=1.14.0->google-cloud-core<2.0dev,>=1.0.3->google-cloud-bigquery==1.21.0->object-detection==0.1) (4.7.2)\n",
            "Requirement already satisfied: cachetools<5.0,>=2.0.0 in /usr/local/lib/python3.7/dist-packages (from google-auth<2.0dev,>=1.21.1->google-api-core<2.0.0dev,>=1.14.0->google-cloud-core<2.0dev,>=1.0.3->google-cloud-bigquery==1.21.0->object-detection==0.1) (4.2.2)\n",
            "Requirement already satisfied: pyasn1-modules>=0.2.1 in /usr/local/lib/python3.7/dist-packages (from google-auth<2.0dev,>=1.21.1->google-api-core<2.0.0dev,>=1.14.0->google-cloud-core<2.0dev,>=1.0.3->google-cloud-bigquery==1.21.0->object-detection==0.1) (0.2.8)\n",
            "Requirement already satisfied: pyparsing>=2.0.2 in /usr/local/lib/python3.7/dist-packages (from packaging>=14.3->google-api-core<2.0.0dev,>=1.14.0->google-cloud-core<2.0dev,>=1.0.3->google-cloud-bigquery==1.21.0->object-detection==0.1) (2.4.7)\n",
            "Requirement already satisfied: pyasn1<0.5.0,>=0.4.6 in /usr/local/lib/python3.7/dist-packages (from pyasn1-modules>=0.2.1->google-auth<2.0dev,>=1.21.1->google-api-core<2.0.0dev,>=1.14.0->google-cloud-core<2.0dev,>=1.0.3->google-cloud-bigquery==1.21.0->object-detection==0.1) (0.4.8)\n",
            "Requirement already satisfied: certifi>=2017.4.17 in /usr/local/lib/python3.7/dist-packages (from requests<3.0.0dev,>=2.18.0->google-api-core<2.0.0dev,>=1.14.0->google-cloud-core<2.0dev,>=1.0.3->google-cloud-bigquery==1.21.0->object-detection==0.1) (2021.5.30)\n",
            "Requirement already satisfied: urllib3!=1.25.0,!=1.25.1,<1.26,>=1.21.1 in /usr/local/lib/python3.7/dist-packages (from requests<3.0.0dev,>=2.18.0->google-api-core<2.0.0dev,>=1.14.0->google-cloud-core<2.0dev,>=1.0.3->google-cloud-bigquery==1.21.0->object-detection==0.1) (1.24.3)\n",
            "Requirement already satisfied: idna<3,>=2.5 in /usr/local/lib/python3.7/dist-packages (from requests<3.0.0dev,>=2.18.0->google-api-core<2.0.0dev,>=1.14.0->google-cloud-core<2.0dev,>=1.0.3->google-cloud-bigquery==1.21.0->object-detection==0.1) (2.10)\n",
            "Requirement already satisfied: chardet<4,>=3.0.2 in /usr/local/lib/python3.7/dist-packages (from requests<3.0.0dev,>=2.18.0->google-api-core<2.0.0dev,>=1.14.0->google-cloud-core<2.0dev,>=1.0.3->google-cloud-bigquery==1.21.0->object-detection==0.1) (3.0.4)\n",
            "Requirement already satisfied: pyarrow<5.0.0,>=0.15.1 in /usr/local/lib/python3.7/dist-packages (from apache-beam->object-detection==0.1) (3.0.0)\n",
            "Collecting hdfs<3.0.0,>=2.1.0\n",
            "  Downloading hdfs-2.6.0-py3-none-any.whl (33 kB)\n",
            "Requirement already satisfied: crcmod<2.0,>=1.7 in /usr/local/lib/python3.7/dist-packages (from apache-beam->object-detection==0.1) (1.7)\n",
            "Requirement already satisfied: python-dateutil<3,>=2.8.0 in /usr/local/lib/python3.7/dist-packages (from apache-beam->object-detection==0.1) (2.8.1)\n",
            "Requirement already satisfied: pydot<2,>=1.2.0 in /usr/local/lib/python3.7/dist-packages (from apache-beam->object-detection==0.1) (1.3.0)\n",
            "Requirement already satisfied: httplib2<0.20.0,>=0.8 in /usr/local/lib/python3.7/dist-packages (from apache-beam->object-detection==0.1) (0.17.4)\n",
            "Collecting fastavro<2,>=0.21.4\n",
            "  Downloading fastavro-1.4.4-cp37-cp37m-manylinux_2_17_x86_64.manylinux2014_x86_64.whl (2.3 MB)\n",
            "\u001b[K     |████████████████████████████████| 2.3 MB 30.8 MB/s \n",
            "\u001b[?25hRequirement already satisfied: oauth2client<5,>=2.0.1 in /usr/local/lib/python3.7/dist-packages (from apache-beam->object-detection==0.1) (4.1.3)\n",
            "Requirement already satisfied: numpy<1.21.0,>=1.14.3 in /usr/local/lib/python3.7/dist-packages (from apache-beam->object-detection==0.1) (1.19.5)\n",
            "Requirement already satisfied: grpcio<2,>=1.29.0 in /usr/local/lib/python3.7/dist-packages (from apache-beam->object-detection==0.1) (1.34.1)\n",
            "Collecting future<1.0.0,>=0.18.2\n",
            "  Downloading future-0.18.2.tar.gz (829 kB)\n",
            "\u001b[K     |████████████████████████████████| 829 kB 35.8 MB/s \n",
            "\u001b[?25hCollecting requests<3.0.0dev,>=2.18.0\n",
            "  Downloading requests-2.26.0-py2.py3-none-any.whl (62 kB)\n",
            "\u001b[K     |████████████████████████████████| 62 kB 764 kB/s \n",
            "\u001b[?25hRequirement already satisfied: typing-extensions<3.8.0,>=3.7.0 in /usr/local/lib/python3.7/dist-packages (from apache-beam->object-detection==0.1) (3.7.4.3)\n",
            "Collecting dill<0.3.2,>=0.3.1.1\n",
            "  Downloading dill-0.3.1.1.tar.gz (151 kB)\n",
            "\u001b[K     |████████████████████████████████| 151 kB 48.2 MB/s \n",
            "\u001b[?25hCollecting avro-python3\n",
            "  Downloading avro-python3-1.9.2.1.tar.gz (37 kB)\n",
            "Requirement already satisfied: pymongo<4.0.0,>=3.8.0 in /usr/local/lib/python3.7/dist-packages (from apache-beam->object-detection==0.1) (3.11.4)\n",
            "Requirement already satisfied: docopt in /usr/local/lib/python3.7/dist-packages (from hdfs<3.0.0,>=2.1.0->apache-beam->object-detection==0.1) (0.6.2)\n",
            "Requirement already satisfied: charset-normalizer~=2.0.0 in /usr/local/lib/python3.7/dist-packages (from requests<3.0.0dev,>=2.18.0->google-api-core<2.0.0dev,>=1.14.0->google-cloud-core<2.0dev,>=1.0.3->google-cloud-bigquery==1.21.0->object-detection==0.1) (2.0.2)\n",
            "Requirement already satisfied: cycler>=0.10.0 in /usr/local/lib/python3.7/dist-packages (from lvis->object-detection==0.1) (0.10.0)\n",
            "Requirement already satisfied: opencv-python>=4.1.0.25 in /usr/local/lib/python3.7/dist-packages (from lvis->object-detection==0.1) (4.1.2.30)\n",
            "Requirement already satisfied: kiwisolver>=1.1.0 in /usr/local/lib/python3.7/dist-packages (from lvis->object-detection==0.1) (1.3.1)\n",
            "Requirement already satisfied: google-api-python-client>=1.6.7 in /usr/local/lib/python3.7/dist-packages (from tf-models-official->object-detection==0.1) (1.12.8)\n",
            "Collecting sentencepiece\n",
            "  Downloading sentencepiece-0.1.96-cp37-cp37m-manylinux_2_17_x86_64.manylinux2014_x86_64.whl (1.2 MB)\n",
            "\u001b[K     |████████████████████████████████| 1.2 MB 36.5 MB/s \n",
            "\u001b[?25hRequirement already satisfied: gin-config in /usr/local/lib/python3.7/dist-packages (from tf-models-official->object-detection==0.1) (0.4.0)\n",
            "Collecting pyyaml>=5.1\n",
            "  Downloading PyYAML-5.4.1-cp37-cp37m-manylinux1_x86_64.whl (636 kB)\n",
            "\u001b[K     |████████████████████████████████| 636 kB 41.2 MB/s \n",
            "\u001b[?25hRequirement already satisfied: tensorflow>=2.5.0 in /usr/local/lib/python3.7/dist-packages (from tf-models-official->object-detection==0.1) (2.5.0)\n",
            "Collecting opencv-python-headless\n",
            "  Downloading opencv_python_headless-4.5.3.56-cp37-cp37m-manylinux2014_x86_64.whl (37.1 MB)\n",
            "\u001b[K     |████████████████████████████████| 37.1 MB 46 kB/s \n",
            "\u001b[?25hCollecting tensorflow-model-optimization>=0.4.1\n",
            "  Downloading tensorflow_model_optimization-0.6.0-py2.py3-none-any.whl (211 kB)\n",
            "\u001b[K     |████████████████████████████████| 211 kB 43.8 MB/s \n",
            "\u001b[?25hRequirement already satisfied: tensorflow-hub>=0.6.0 in /usr/local/lib/python3.7/dist-packages (from tf-models-official->object-detection==0.1) (0.12.0)\n",
            "Requirement already satisfied: psutil>=5.4.3 in /usr/local/lib/python3.7/dist-packages (from tf-models-official->object-detection==0.1) (5.4.8)\n",
            "Collecting py-cpuinfo>=3.3.0\n",
            "  Downloading py-cpuinfo-8.0.0.tar.gz (99 kB)\n",
            "\u001b[K     |████████████████████████████████| 99 kB 8.7 MB/s \n",
            "\u001b[?25hCollecting seqeval\n",
            "  Downloading seqeval-1.2.2.tar.gz (43 kB)\n",
            "\u001b[K     |████████████████████████████████| 43 kB 1.7 MB/s \n",
            "\u001b[?25hRequirement already satisfied: tensorflow-datasets in /usr/local/lib/python3.7/dist-packages (from tf-models-official->object-detection==0.1) (4.0.1)\n",
            "Requirement already satisfied: kaggle>=1.3.9 in /usr/local/lib/python3.7/dist-packages (from tf-models-official->object-detection==0.1) (1.5.12)\n",
            "Collecting sacrebleu\n",
            "  Downloading sacrebleu-1.5.1-py3-none-any.whl (54 kB)\n",
            "\u001b[K     |████████████████████████████████| 54 kB 2.5 MB/s \n",
            "\u001b[?25hCollecting tensorflow-addons\n",
            "  Downloading tensorflow_addons-0.13.0-cp37-cp37m-manylinux2010_x86_64.whl (679 kB)\n",
            "\u001b[K     |████████████████████████████████| 679 kB 43.1 MB/s \n",
            "\u001b[?25hRequirement already satisfied: uritemplate<4dev,>=3.0.0 in /usr/local/lib/python3.7/dist-packages (from google-api-python-client>=1.6.7->tf-models-official->object-detection==0.1) (3.0.1)\n",
            "Requirement already satisfied: google-auth-httplib2>=0.0.3 in /usr/local/lib/python3.7/dist-packages (from google-api-python-client>=1.6.7->tf-models-official->object-detection==0.1) (0.0.4)\n",
            "Requirement already satisfied: python-slugify in /usr/local/lib/python3.7/dist-packages (from kaggle>=1.3.9->tf-models-official->object-detection==0.1) (5.0.2)\n",
            "Requirement already satisfied: tqdm in /usr/local/lib/python3.7/dist-packages (from kaggle>=1.3.9->tf-models-official->object-detection==0.1) (4.41.1)\n",
            "Requirement already satisfied: astunparse~=1.6.3 in /usr/local/lib/python3.7/dist-packages (from tensorflow>=2.5.0->tf-models-official->object-detection==0.1) (1.6.3)\n",
            "Requirement already satisfied: google-pasta~=0.2 in /usr/local/lib/python3.7/dist-packages (from tensorflow>=2.5.0->tf-models-official->object-detection==0.1) (0.2.0)\n",
            "Requirement already satisfied: opt-einsum~=3.3.0 in /usr/local/lib/python3.7/dist-packages (from tensorflow>=2.5.0->tf-models-official->object-detection==0.1) (3.3.0)\n",
            "Requirement already satisfied: keras-preprocessing~=1.1.2 in /usr/local/lib/python3.7/dist-packages (from tensorflow>=2.5.0->tf-models-official->object-detection==0.1) (1.1.2)\n",
            "Requirement already satisfied: absl-py~=0.10 in /usr/local/lib/python3.7/dist-packages (from tensorflow>=2.5.0->tf-models-official->object-detection==0.1) (0.12.0)\n",
            "Requirement already satisfied: tensorboard~=2.5 in /usr/local/lib/python3.7/dist-packages (from tensorflow>=2.5.0->tf-models-official->object-detection==0.1) (2.5.0)\n",
            "Requirement already satisfied: flatbuffers~=1.12.0 in /usr/local/lib/python3.7/dist-packages (from tensorflow>=2.5.0->tf-models-official->object-detection==0.1) (1.12)\n",
            "Requirement already satisfied: gast==0.4.0 in /usr/local/lib/python3.7/dist-packages (from tensorflow>=2.5.0->tf-models-official->object-detection==0.1) (0.4.0)\n",
            "Requirement already satisfied: h5py~=3.1.0 in /usr/local/lib/python3.7/dist-packages (from tensorflow>=2.5.0->tf-models-official->object-detection==0.1) (3.1.0)\n",
            "Requirement already satisfied: wheel~=0.35 in /usr/local/lib/python3.7/dist-packages (from tensorflow>=2.5.0->tf-models-official->object-detection==0.1) (0.36.2)\n",
            "Requirement already satisfied: termcolor~=1.1.0 in /usr/local/lib/python3.7/dist-packages (from tensorflow>=2.5.0->tf-models-official->object-detection==0.1) (1.1.0)\n",
            "Requirement already satisfied: wrapt~=1.12.1 in /usr/local/lib/python3.7/dist-packages (from tensorflow>=2.5.0->tf-models-official->object-detection==0.1) (1.12.1)\n",
            "Requirement already satisfied: tensorflow-estimator<2.6.0,>=2.5.0rc0 in /usr/local/lib/python3.7/dist-packages (from tensorflow>=2.5.0->tf-models-official->object-detection==0.1) (2.5.0)\n",
            "Requirement already satisfied: keras-nightly~=2.5.0.dev in /usr/local/lib/python3.7/dist-packages (from tensorflow>=2.5.0->tf-models-official->object-detection==0.1) (2.5.0.dev2021032900)\n",
            "Requirement already satisfied: cached-property in /usr/local/lib/python3.7/dist-packages (from h5py~=3.1.0->tensorflow>=2.5.0->tf-models-official->object-detection==0.1) (1.5.2)\n",
            "Requirement already satisfied: werkzeug>=0.11.15 in /usr/local/lib/python3.7/dist-packages (from tensorboard~=2.5->tensorflow>=2.5.0->tf-models-official->object-detection==0.1) (1.0.1)\n",
            "Requirement already satisfied: tensorboard-data-server<0.7.0,>=0.6.0 in /usr/local/lib/python3.7/dist-packages (from tensorboard~=2.5->tensorflow>=2.5.0->tf-models-official->object-detection==0.1) (0.6.1)\n",
            "Requirement already satisfied: markdown>=2.6.8 in /usr/local/lib/python3.7/dist-packages (from tensorboard~=2.5->tensorflow>=2.5.0->tf-models-official->object-detection==0.1) (3.3.4)\n",
            "Requirement already satisfied: tensorboard-plugin-wit>=1.6.0 in /usr/local/lib/python3.7/dist-packages (from tensorboard~=2.5->tensorflow>=2.5.0->tf-models-official->object-detection==0.1) (1.8.0)\n",
            "Requirement already satisfied: google-auth-oauthlib<0.5,>=0.4.1 in /usr/local/lib/python3.7/dist-packages (from tensorboard~=2.5->tensorflow>=2.5.0->tf-models-official->object-detection==0.1) (0.4.4)\n",
            "Requirement already satisfied: requests-oauthlib>=0.7.0 in /usr/local/lib/python3.7/dist-packages (from google-auth-oauthlib<0.5,>=0.4.1->tensorboard~=2.5->tensorflow>=2.5.0->tf-models-official->object-detection==0.1) (1.3.0)\n",
            "Requirement already satisfied: importlib-metadata in /usr/local/lib/python3.7/dist-packages (from markdown>=2.6.8->tensorboard~=2.5->tensorflow>=2.5.0->tf-models-official->object-detection==0.1) (4.6.1)\n",
            "Requirement already satisfied: oauthlib>=3.0.0 in /usr/local/lib/python3.7/dist-packages (from requests-oauthlib>=0.7.0->google-auth-oauthlib<0.5,>=0.4.1->tensorboard~=2.5->tensorflow>=2.5.0->tf-models-official->object-detection==0.1) (3.1.1)\n",
            "Requirement already satisfied: dm-tree~=0.1.1 in /usr/local/lib/python3.7/dist-packages (from tensorflow-model-optimization>=0.4.1->tf-models-official->object-detection==0.1) (0.1.6)\n",
            "Requirement already satisfied: zipp>=0.5 in /usr/local/lib/python3.7/dist-packages (from importlib-metadata->markdown>=2.6.8->tensorboard~=2.5->tensorflow>=2.5.0->tf-models-official->object-detection==0.1) (3.5.0)\n",
            "Requirement already satisfied: text-unidecode>=1.3 in /usr/local/lib/python3.7/dist-packages (from python-slugify->kaggle>=1.3.9->tf-models-official->object-detection==0.1) (1.3)\n",
            "Collecting portalocker==2.0.0\n",
            "  Downloading portalocker-2.0.0-py2.py3-none-any.whl (11 kB)\n",
            "Requirement already satisfied: scikit-learn>=0.21.3 in /usr/local/lib/python3.7/dist-packages (from seqeval->tf-models-official->object-detection==0.1) (0.22.2.post1)\n",
            "Requirement already satisfied: joblib>=0.11 in /usr/local/lib/python3.7/dist-packages (from scikit-learn>=0.21.3->seqeval->tf-models-official->object-detection==0.1) (1.0.1)\n",
            "Requirement already satisfied: typeguard>=2.7 in /usr/local/lib/python3.7/dist-packages (from tensorflow-addons->tf-models-official->object-detection==0.1) (2.7.1)\n",
            "Requirement already satisfied: attrs>=18.1.0 in /usr/local/lib/python3.7/dist-packages (from tensorflow-datasets->tf-models-official->object-detection==0.1) (21.2.0)\n",
            "Requirement already satisfied: promise in /usr/local/lib/python3.7/dist-packages (from tensorflow-datasets->tf-models-official->object-detection==0.1) (2.3)\n",
            "Requirement already satisfied: tensorflow-metadata in /usr/local/lib/python3.7/dist-packages (from tensorflow-datasets->tf-models-official->object-detection==0.1) (1.1.0)\n",
            "Requirement already satisfied: importlib-resources in /usr/local/lib/python3.7/dist-packages (from tensorflow-datasets->tf-models-official->object-detection==0.1) (5.2.0)\n",
            "Building wheels for collected packages: object-detection, avro-python3, dill, future, py-cpuinfo, seqeval\n",
            "  Building wheel for object-detection (setup.py) ... \u001b[?25l\u001b[?25hdone\n",
            "  Created wheel for object-detection: filename=object_detection-0.1-py3-none-any.whl size=1660323 sha256=e68265e660014f6b236a1a9d81a9da032e3f16562e72cf066739cf1d9754ed71\n",
            "  Stored in directory: /tmp/pip-ephem-wheel-cache-17rkibjp/wheels/fa/a4/d2/e9a5057e414fd46c8e543d2706cd836d64e1fcd9eccceb2329\n",
            "  Building wheel for avro-python3 (setup.py) ... \u001b[?25l\u001b[?25hdone\n",
            "  Created wheel for avro-python3: filename=avro_python3-1.9.2.1-py3-none-any.whl size=43512 sha256=344e931328209bde336a8c2b87bf9b59a924b667400a1a7cb8f4bf64012c1f20\n",
            "  Stored in directory: /root/.cache/pip/wheels/bc/49/5f/fdb5b9d85055c478213e0158ac122b596816149a02d82e0ab1\n",
            "  Building wheel for dill (setup.py) ... \u001b[?25l\u001b[?25hdone\n",
            "  Created wheel for dill: filename=dill-0.3.1.1-py3-none-any.whl size=78544 sha256=e5014bf363efacb5564fda172579720f49d3ffb6ae5b237c22ca3baa289d1ebe\n",
            "  Stored in directory: /root/.cache/pip/wheels/a4/61/fd/c57e374e580aa78a45ed78d5859b3a44436af17e22ca53284f\n",
            "  Building wheel for future (setup.py) ... \u001b[?25l\u001b[?25hdone\n",
            "  Created wheel for future: filename=future-0.18.2-py3-none-any.whl size=491070 sha256=65c50a5f720b04992258c17da88dfed6d6d7877d04152e1b561b7064616629ba\n",
            "  Stored in directory: /root/.cache/pip/wheels/56/b0/fe/4410d17b32f1f0c3cf54cdfb2bc04d7b4b8f4ae377e2229ba0\n",
            "  Building wheel for py-cpuinfo (setup.py) ... \u001b[?25l\u001b[?25hdone\n",
            "  Created wheel for py-cpuinfo: filename=py_cpuinfo-8.0.0-py3-none-any.whl size=22257 sha256=8da42f22939626975666711cd5c00dedaf1bb3105951c68078ed15b0c2010e83\n",
            "  Stored in directory: /root/.cache/pip/wheels/d2/f1/1f/041add21dc9c4220157f1bd2bd6afe1f1a49524c3396b94401\n",
            "  Building wheel for seqeval (setup.py) ... \u001b[?25l\u001b[?25hdone\n",
            "  Created wheel for seqeval: filename=seqeval-1.2.2-py3-none-any.whl size=16181 sha256=5e40a69b787e46fa18100d02eb140e6c478c151fbbfba5e76e081c5926f4dcec\n",
            "  Stored in directory: /root/.cache/pip/wheels/05/96/ee/7cac4e74f3b19e3158dce26a20a1c86b3533c43ec72a549fd7\n",
            "Successfully built object-detection avro-python3 dill future py-cpuinfo seqeval\n",
            "Installing collected packages: requests, portalocker, future, dill, tf-slim, tensorflow-model-optimization, tensorflow-addons, seqeval, sentencepiece, sacrebleu, pyyaml, py-cpuinfo, opencv-python-headless, hdfs, fastavro, avro-python3, tf-models-official, lvis, apache-beam, object-detection\n",
            "  Attempting uninstall: requests\n",
            "    Found existing installation: requests 2.23.0\n",
            "    Uninstalling requests-2.23.0:\n",
            "      Successfully uninstalled requests-2.23.0\n",
            "  Attempting uninstall: future\n",
            "    Found existing installation: future 0.16.0\n",
            "    Uninstalling future-0.16.0:\n",
            "      Successfully uninstalled future-0.16.0\n",
            "  Attempting uninstall: dill\n",
            "    Found existing installation: dill 0.3.4\n",
            "    Uninstalling dill-0.3.4:\n",
            "      Successfully uninstalled dill-0.3.4\n",
            "  Attempting uninstall: pyyaml\n",
            "    Found existing installation: PyYAML 3.13\n",
            "    Uninstalling PyYAML-3.13:\n",
            "      Successfully uninstalled PyYAML-3.13\n",
            "\u001b[31mERROR: pip's dependency resolver does not currently take into account all the packages that are installed. This behaviour is the source of the following dependency conflicts.\n",
            "multiprocess 0.70.12.2 requires dill>=0.3.4, but you have dill 0.3.1.1 which is incompatible.\n",
            "google-colab 1.0.0 requires requests~=2.23.0, but you have requests 2.26.0 which is incompatible.\n",
            "datascience 0.10.6 requires folium==0.2.1, but you have folium 0.8.3 which is incompatible.\u001b[0m\n",
            "Successfully installed apache-beam-2.31.0 avro-python3-1.9.2.1 dill-0.3.1.1 fastavro-1.4.4 future-0.18.2 hdfs-2.6.0 lvis-0.5.3 object-detection-0.1 opencv-python-headless-4.5.3.56 portalocker-2.0.0 py-cpuinfo-8.0.0 pyyaml-5.4.1 requests-2.26.0 sacrebleu-1.5.1 sentencepiece-0.1.96 seqeval-1.2.2 tensorflow-addons-0.13.0 tensorflow-model-optimization-0.6.0 tf-models-official-2.5.1 tf-slim-1.1.0\n"
          ],
          "name": "stdout"
        }
      ]
    },
    {
      "cell_type": "code",
      "metadata": {
        "colab": {
          "base_uri": "https://localhost:8080/"
        },
        "id": "-wh_k8qapklg",
        "outputId": "ed8e0bb6-8281-4147-a28b-e9c6ba27b152"
      },
      "source": [
        "# From within TensorFlow/models/research/\n",
        "!python object_detection/builders/model_builder_tf2_test.py"
      ],
      "execution_count": null,
      "outputs": [
        {
          "output_type": "stream",
          "text": [
            "2021-08-01 01:16:12.587741: I tensorflow/stream_executor/platform/default/dso_loader.cc:53] Successfully opened dynamic library libcudart.so.11.0\n",
            "Running tests under Python 3.7.11: /usr/bin/python3\n",
            "[ RUN      ] ModelBuilderTF2Test.test_create_center_net_deepmac\n",
            "2021-08-01 01:16:15.485023: I tensorflow/stream_executor/platform/default/dso_loader.cc:53] Successfully opened dynamic library libcuda.so.1\n",
            "2021-08-01 01:16:15.498877: E tensorflow/stream_executor/cuda/cuda_driver.cc:328] failed call to cuInit: CUDA_ERROR_NO_DEVICE: no CUDA-capable device is detected\n",
            "2021-08-01 01:16:15.498932: I tensorflow/stream_executor/cuda/cuda_diagnostics.cc:156] kernel driver does not appear to be running on this host (68e551d37c1f): /proc/driver/nvidia/version does not exist\n",
            "W0801 01:16:15.794534 140718800684928 model_builder.py:1088] Building experimental DeepMAC meta-arch. Some features may be omitted.\n",
            "INFO:tensorflow:time(__main__.ModelBuilderTF2Test.test_create_center_net_deepmac): 0.63s\n",
            "I0801 01:16:16.104068 140718800684928 test_util.py:2103] time(__main__.ModelBuilderTF2Test.test_create_center_net_deepmac): 0.63s\n",
            "[       OK ] ModelBuilderTF2Test.test_create_center_net_deepmac\n",
            "[ RUN      ] ModelBuilderTF2Test.test_create_center_net_model0 (customize_head_params=True)\n",
            "INFO:tensorflow:time(__main__.ModelBuilderTF2Test.test_create_center_net_model0 (customize_head_params=True)): 0.77s\n",
            "I0801 01:16:16.871433 140718800684928 test_util.py:2103] time(__main__.ModelBuilderTF2Test.test_create_center_net_model0 (customize_head_params=True)): 0.77s\n",
            "[       OK ] ModelBuilderTF2Test.test_create_center_net_model0 (customize_head_params=True)\n",
            "[ RUN      ] ModelBuilderTF2Test.test_create_center_net_model1 (customize_head_params=False)\n",
            "INFO:tensorflow:time(__main__.ModelBuilderTF2Test.test_create_center_net_model1 (customize_head_params=False)): 0.35s\n",
            "I0801 01:16:17.223797 140718800684928 test_util.py:2103] time(__main__.ModelBuilderTF2Test.test_create_center_net_model1 (customize_head_params=False)): 0.35s\n",
            "[       OK ] ModelBuilderTF2Test.test_create_center_net_model1 (customize_head_params=False)\n",
            "[ RUN      ] ModelBuilderTF2Test.test_create_center_net_model_from_keypoints\n",
            "INFO:tensorflow:time(__main__.ModelBuilderTF2Test.test_create_center_net_model_from_keypoints): 0.29s\n",
            "I0801 01:16:17.518010 140718800684928 test_util.py:2103] time(__main__.ModelBuilderTF2Test.test_create_center_net_model_from_keypoints): 0.29s\n",
            "[       OK ] ModelBuilderTF2Test.test_create_center_net_model_from_keypoints\n",
            "[ RUN      ] ModelBuilderTF2Test.test_create_center_net_model_mobilenet\n",
            "WARNING:tensorflow:`input_shape` is undefined or non-square, or `rows` is not in [96, 128, 160, 192, 224]. Weights for input shape (224, 224) will be loaded as the default.\n",
            "W0801 01:16:17.520698 140718800684928 mobilenet_v2.py:296] `input_shape` is undefined or non-square, or `rows` is not in [96, 128, 160, 192, 224]. Weights for input shape (224, 224) will be loaded as the default.\n",
            "Downloading data from https://storage.googleapis.com/tensorflow/keras-applications/mobilenet_v2/mobilenet_v2_weights_tf_dim_ordering_tf_kernels_1.0_224_no_top.h5\n",
            "9412608/9406464 [==============================] - 0s 0us/step\n",
            "INFO:tensorflow:time(__main__.ModelBuilderTF2Test.test_create_center_net_model_mobilenet): 2.62s\n",
            "I0801 01:16:20.136723 140718800684928 test_util.py:2103] time(__main__.ModelBuilderTF2Test.test_create_center_net_model_mobilenet): 2.62s\n",
            "[       OK ] ModelBuilderTF2Test.test_create_center_net_model_mobilenet\n",
            "[ RUN      ] ModelBuilderTF2Test.test_create_experimental_model\n",
            "INFO:tensorflow:time(__main__.ModelBuilderTF2Test.test_create_experimental_model): 0.0s\n",
            "I0801 01:16:20.138359 140718800684928 test_util.py:2103] time(__main__.ModelBuilderTF2Test.test_create_experimental_model): 0.0s\n",
            "[       OK ] ModelBuilderTF2Test.test_create_experimental_model\n",
            "[ RUN      ] ModelBuilderTF2Test.test_create_faster_rcnn_from_config_with_crop_feature0 (True)\n",
            "INFO:tensorflow:time(__main__.ModelBuilderTF2Test.test_create_faster_rcnn_from_config_with_crop_feature0 (True)): 0.03s\n",
            "I0801 01:16:20.169702 140718800684928 test_util.py:2103] time(__main__.ModelBuilderTF2Test.test_create_faster_rcnn_from_config_with_crop_feature0 (True)): 0.03s\n",
            "[       OK ] ModelBuilderTF2Test.test_create_faster_rcnn_from_config_with_crop_feature0 (True)\n",
            "[ RUN      ] ModelBuilderTF2Test.test_create_faster_rcnn_from_config_with_crop_feature1 (False)\n",
            "INFO:tensorflow:time(__main__.ModelBuilderTF2Test.test_create_faster_rcnn_from_config_with_crop_feature1 (False)): 0.02s\n",
            "I0801 01:16:20.189002 140718800684928 test_util.py:2103] time(__main__.ModelBuilderTF2Test.test_create_faster_rcnn_from_config_with_crop_feature1 (False)): 0.02s\n",
            "[       OK ] ModelBuilderTF2Test.test_create_faster_rcnn_from_config_with_crop_feature1 (False)\n",
            "[ RUN      ] ModelBuilderTF2Test.test_create_faster_rcnn_model_from_config_with_example_miner\n",
            "INFO:tensorflow:time(__main__.ModelBuilderTF2Test.test_create_faster_rcnn_model_from_config_with_example_miner): 0.02s\n",
            "I0801 01:16:20.208607 140718800684928 test_util.py:2103] time(__main__.ModelBuilderTF2Test.test_create_faster_rcnn_model_from_config_with_example_miner): 0.02s\n",
            "[       OK ] ModelBuilderTF2Test.test_create_faster_rcnn_model_from_config_with_example_miner\n",
            "[ RUN      ] ModelBuilderTF2Test.test_create_faster_rcnn_models_from_config_faster_rcnn_with_matmul\n",
            "INFO:tensorflow:time(__main__.ModelBuilderTF2Test.test_create_faster_rcnn_models_from_config_faster_rcnn_with_matmul): 0.13s\n",
            "I0801 01:16:20.339605 140718800684928 test_util.py:2103] time(__main__.ModelBuilderTF2Test.test_create_faster_rcnn_models_from_config_faster_rcnn_with_matmul): 0.13s\n",
            "[       OK ] ModelBuilderTF2Test.test_create_faster_rcnn_models_from_config_faster_rcnn_with_matmul\n",
            "[ RUN      ] ModelBuilderTF2Test.test_create_faster_rcnn_models_from_config_faster_rcnn_without_matmul\n",
            "INFO:tensorflow:time(__main__.ModelBuilderTF2Test.test_create_faster_rcnn_models_from_config_faster_rcnn_without_matmul): 0.12s\n",
            "I0801 01:16:20.460449 140718800684928 test_util.py:2103] time(__main__.ModelBuilderTF2Test.test_create_faster_rcnn_models_from_config_faster_rcnn_without_matmul): 0.12s\n",
            "[       OK ] ModelBuilderTF2Test.test_create_faster_rcnn_models_from_config_faster_rcnn_without_matmul\n",
            "[ RUN      ] ModelBuilderTF2Test.test_create_faster_rcnn_models_from_config_mask_rcnn_with_matmul\n",
            "INFO:tensorflow:time(__main__.ModelBuilderTF2Test.test_create_faster_rcnn_models_from_config_mask_rcnn_with_matmul): 0.13s\n",
            "I0801 01:16:20.591256 140718800684928 test_util.py:2103] time(__main__.ModelBuilderTF2Test.test_create_faster_rcnn_models_from_config_mask_rcnn_with_matmul): 0.13s\n",
            "[       OK ] ModelBuilderTF2Test.test_create_faster_rcnn_models_from_config_mask_rcnn_with_matmul\n",
            "[ RUN      ] ModelBuilderTF2Test.test_create_faster_rcnn_models_from_config_mask_rcnn_without_matmul\n",
            "INFO:tensorflow:time(__main__.ModelBuilderTF2Test.test_create_faster_rcnn_models_from_config_mask_rcnn_without_matmul): 0.13s\n",
            "I0801 01:16:20.719121 140718800684928 test_util.py:2103] time(__main__.ModelBuilderTF2Test.test_create_faster_rcnn_models_from_config_mask_rcnn_without_matmul): 0.13s\n",
            "[       OK ] ModelBuilderTF2Test.test_create_faster_rcnn_models_from_config_mask_rcnn_without_matmul\n",
            "[ RUN      ] ModelBuilderTF2Test.test_create_rfcn_model_from_config\n",
            "INFO:tensorflow:time(__main__.ModelBuilderTF2Test.test_create_rfcn_model_from_config): 0.13s\n",
            "I0801 01:16:20.852143 140718800684928 test_util.py:2103] time(__main__.ModelBuilderTF2Test.test_create_rfcn_model_from_config): 0.13s\n",
            "[       OK ] ModelBuilderTF2Test.test_create_rfcn_model_from_config\n",
            "[ RUN      ] ModelBuilderTF2Test.test_create_ssd_fpn_model_from_config\n",
            "INFO:tensorflow:time(__main__.ModelBuilderTF2Test.test_create_ssd_fpn_model_from_config): 0.04s\n",
            "I0801 01:16:20.888313 140718800684928 test_util.py:2103] time(__main__.ModelBuilderTF2Test.test_create_ssd_fpn_model_from_config): 0.04s\n",
            "[       OK ] ModelBuilderTF2Test.test_create_ssd_fpn_model_from_config\n",
            "[ RUN      ] ModelBuilderTF2Test.test_create_ssd_models_from_config\n",
            "I0801 01:16:21.104126 140718800684928 ssd_efficientnet_bifpn_feature_extractor.py:143] EfficientDet EfficientNet backbone version: efficientnet-b0\n",
            "I0801 01:16:21.104395 140718800684928 ssd_efficientnet_bifpn_feature_extractor.py:144] EfficientDet BiFPN num filters: 64\n",
            "I0801 01:16:21.104469 140718800684928 ssd_efficientnet_bifpn_feature_extractor.py:146] EfficientDet BiFPN num iterations: 3\n",
            "I0801 01:16:21.107413 140718800684928 efficientnet_model.py:147] round_filter input=32 output=32\n",
            "I0801 01:16:21.128757 140718800684928 efficientnet_model.py:147] round_filter input=32 output=32\n",
            "I0801 01:16:21.129018 140718800684928 efficientnet_model.py:147] round_filter input=16 output=16\n",
            "I0801 01:16:21.207031 140718800684928 efficientnet_model.py:147] round_filter input=16 output=16\n",
            "I0801 01:16:21.207280 140718800684928 efficientnet_model.py:147] round_filter input=24 output=24\n",
            "I0801 01:16:21.388872 140718800684928 efficientnet_model.py:147] round_filter input=24 output=24\n",
            "I0801 01:16:21.389129 140718800684928 efficientnet_model.py:147] round_filter input=40 output=40\n",
            "I0801 01:16:21.586615 140718800684928 efficientnet_model.py:147] round_filter input=40 output=40\n",
            "I0801 01:16:21.586899 140718800684928 efficientnet_model.py:147] round_filter input=80 output=80\n",
            "I0801 01:16:22.102226 140718800684928 efficientnet_model.py:147] round_filter input=80 output=80\n",
            "I0801 01:16:22.102524 140718800684928 efficientnet_model.py:147] round_filter input=112 output=112\n",
            "I0801 01:16:22.420804 140718800684928 efficientnet_model.py:147] round_filter input=112 output=112\n",
            "I0801 01:16:22.421081 140718800684928 efficientnet_model.py:147] round_filter input=192 output=192\n",
            "I0801 01:16:22.893666 140718800684928 efficientnet_model.py:147] round_filter input=192 output=192\n",
            "I0801 01:16:22.893969 140718800684928 efficientnet_model.py:147] round_filter input=320 output=320\n",
            "I0801 01:16:23.013948 140718800684928 efficientnet_model.py:147] round_filter input=1280 output=1280\n",
            "I0801 01:16:23.085190 140718800684928 efficientnet_model.py:458] Building model efficientnet with params ModelConfig(width_coefficient=1.0, depth_coefficient=1.0, resolution=224, dropout_rate=0.2, blocks=(BlockConfig(input_filters=32, output_filters=16, kernel_size=3, num_repeat=1, expand_ratio=1, strides=(1, 1), se_ratio=0.25, id_skip=True, fused_conv=False, conv_type='depthwise'), BlockConfig(input_filters=16, output_filters=24, kernel_size=3, num_repeat=2, expand_ratio=6, strides=(2, 2), se_ratio=0.25, id_skip=True, fused_conv=False, conv_type='depthwise'), BlockConfig(input_filters=24, output_filters=40, kernel_size=5, num_repeat=2, expand_ratio=6, strides=(2, 2), se_ratio=0.25, id_skip=True, fused_conv=False, conv_type='depthwise'), BlockConfig(input_filters=40, output_filters=80, kernel_size=3, num_repeat=3, expand_ratio=6, strides=(2, 2), se_ratio=0.25, id_skip=True, fused_conv=False, conv_type='depthwise'), BlockConfig(input_filters=80, output_filters=112, kernel_size=5, num_repeat=3, expand_ratio=6, strides=(1, 1), se_ratio=0.25, id_skip=True, fused_conv=False, conv_type='depthwise'), BlockConfig(input_filters=112, output_filters=192, kernel_size=5, num_repeat=4, expand_ratio=6, strides=(2, 2), se_ratio=0.25, id_skip=True, fused_conv=False, conv_type='depthwise'), BlockConfig(input_filters=192, output_filters=320, kernel_size=3, num_repeat=1, expand_ratio=6, strides=(1, 1), se_ratio=0.25, id_skip=True, fused_conv=False, conv_type='depthwise')), stem_base_filters=32, top_base_filters=1280, activation='simple_swish', batch_norm='default', bn_momentum=0.99, bn_epsilon=0.001, weight_decay=5e-06, drop_connect_rate=0.2, depth_divisor=8, min_depth=None, use_se=True, input_channels=3, num_classes=1000, model_name='efficientnet', rescale_input=False, data_format='channels_last', dtype='float32')\n",
            "I0801 01:16:23.146379 140718800684928 ssd_efficientnet_bifpn_feature_extractor.py:143] EfficientDet EfficientNet backbone version: efficientnet-b1\n",
            "I0801 01:16:23.146600 140718800684928 ssd_efficientnet_bifpn_feature_extractor.py:144] EfficientDet BiFPN num filters: 88\n",
            "I0801 01:16:23.146697 140718800684928 ssd_efficientnet_bifpn_feature_extractor.py:146] EfficientDet BiFPN num iterations: 4\n",
            "I0801 01:16:23.148697 140718800684928 efficientnet_model.py:147] round_filter input=32 output=32\n",
            "I0801 01:16:23.167751 140718800684928 efficientnet_model.py:147] round_filter input=32 output=32\n",
            "I0801 01:16:23.167976 140718800684928 efficientnet_model.py:147] round_filter input=16 output=16\n",
            "I0801 01:16:23.306996 140718800684928 efficientnet_model.py:147] round_filter input=16 output=16\n",
            "I0801 01:16:23.307199 140718800684928 efficientnet_model.py:147] round_filter input=24 output=24\n",
            "I0801 01:16:23.559507 140718800684928 efficientnet_model.py:147] round_filter input=24 output=24\n",
            "I0801 01:16:23.559705 140718800684928 efficientnet_model.py:147] round_filter input=40 output=40\n",
            "I0801 01:16:23.824268 140718800684928 efficientnet_model.py:147] round_filter input=40 output=40\n",
            "I0801 01:16:23.824465 140718800684928 efficientnet_model.py:147] round_filter input=80 output=80\n",
            "I0801 01:16:24.197447 140718800684928 efficientnet_model.py:147] round_filter input=80 output=80\n",
            "I0801 01:16:24.197697 140718800684928 efficientnet_model.py:147] round_filter input=112 output=112\n",
            "I0801 01:16:24.599225 140718800684928 efficientnet_model.py:147] round_filter input=112 output=112\n",
            "I0801 01:16:24.599499 140718800684928 efficientnet_model.py:147] round_filter input=192 output=192\n",
            "I0801 01:16:25.153197 140718800684928 efficientnet_model.py:147] round_filter input=192 output=192\n",
            "I0801 01:16:25.153450 140718800684928 efficientnet_model.py:147] round_filter input=320 output=320\n",
            "I0801 01:16:25.396938 140718800684928 efficientnet_model.py:147] round_filter input=1280 output=1280\n",
            "I0801 01:16:25.460400 140718800684928 efficientnet_model.py:458] Building model efficientnet with params ModelConfig(width_coefficient=1.0, depth_coefficient=1.1, resolution=240, dropout_rate=0.2, blocks=(BlockConfig(input_filters=32, output_filters=16, kernel_size=3, num_repeat=1, expand_ratio=1, strides=(1, 1), se_ratio=0.25, id_skip=True, fused_conv=False, conv_type='depthwise'), BlockConfig(input_filters=16, output_filters=24, kernel_size=3, num_repeat=2, expand_ratio=6, strides=(2, 2), se_ratio=0.25, id_skip=True, fused_conv=False, conv_type='depthwise'), BlockConfig(input_filters=24, output_filters=40, kernel_size=5, num_repeat=2, expand_ratio=6, strides=(2, 2), se_ratio=0.25, id_skip=True, fused_conv=False, conv_type='depthwise'), BlockConfig(input_filters=40, output_filters=80, kernel_size=3, num_repeat=3, expand_ratio=6, strides=(2, 2), se_ratio=0.25, id_skip=True, fused_conv=False, conv_type='depthwise'), BlockConfig(input_filters=80, output_filters=112, kernel_size=5, num_repeat=3, expand_ratio=6, strides=(1, 1), se_ratio=0.25, id_skip=True, fused_conv=False, conv_type='depthwise'), BlockConfig(input_filters=112, output_filters=192, kernel_size=5, num_repeat=4, expand_ratio=6, strides=(2, 2), se_ratio=0.25, id_skip=True, fused_conv=False, conv_type='depthwise'), BlockConfig(input_filters=192, output_filters=320, kernel_size=3, num_repeat=1, expand_ratio=6, strides=(1, 1), se_ratio=0.25, id_skip=True, fused_conv=False, conv_type='depthwise')), stem_base_filters=32, top_base_filters=1280, activation='simple_swish', batch_norm='default', bn_momentum=0.99, bn_epsilon=0.001, weight_decay=5e-06, drop_connect_rate=0.2, depth_divisor=8, min_depth=None, use_se=True, input_channels=3, num_classes=1000, model_name='efficientnet', rescale_input=False, data_format='channels_last', dtype='float32')\n",
            "I0801 01:16:25.531795 140718800684928 ssd_efficientnet_bifpn_feature_extractor.py:143] EfficientDet EfficientNet backbone version: efficientnet-b2\n",
            "I0801 01:16:25.531991 140718800684928 ssd_efficientnet_bifpn_feature_extractor.py:144] EfficientDet BiFPN num filters: 112\n",
            "I0801 01:16:25.532080 140718800684928 ssd_efficientnet_bifpn_feature_extractor.py:146] EfficientDet BiFPN num iterations: 5\n",
            "I0801 01:16:25.533915 140718800684928 efficientnet_model.py:147] round_filter input=32 output=32\n",
            "I0801 01:16:25.550149 140718800684928 efficientnet_model.py:147] round_filter input=32 output=32\n",
            "I0801 01:16:25.550357 140718800684928 efficientnet_model.py:147] round_filter input=16 output=16\n",
            "I0801 01:16:25.676477 140718800684928 efficientnet_model.py:147] round_filter input=16 output=16\n",
            "I0801 01:16:25.676669 140718800684928 efficientnet_model.py:147] round_filter input=24 output=24\n",
            "I0801 01:16:26.113041 140718800684928 efficientnet_model.py:147] round_filter input=24 output=24\n",
            "I0801 01:16:26.113304 140718800684928 efficientnet_model.py:147] round_filter input=40 output=48\n",
            "I0801 01:16:26.390586 140718800684928 efficientnet_model.py:147] round_filter input=40 output=48\n",
            "I0801 01:16:26.390880 140718800684928 efficientnet_model.py:147] round_filter input=80 output=88\n",
            "I0801 01:16:26.799513 140718800684928 efficientnet_model.py:147] round_filter input=80 output=88\n",
            "I0801 01:16:26.799783 140718800684928 efficientnet_model.py:147] round_filter input=112 output=120\n",
            "I0801 01:16:27.188761 140718800684928 efficientnet_model.py:147] round_filter input=112 output=120\n",
            "I0801 01:16:27.189038 140718800684928 efficientnet_model.py:147] round_filter input=192 output=208\n",
            "I0801 01:16:27.741557 140718800684928 efficientnet_model.py:147] round_filter input=192 output=208\n",
            "I0801 01:16:27.741853 140718800684928 efficientnet_model.py:147] round_filter input=320 output=352\n",
            "I0801 01:16:28.008730 140718800684928 efficientnet_model.py:147] round_filter input=1280 output=1408\n",
            "I0801 01:16:28.088433 140718800684928 efficientnet_model.py:458] Building model efficientnet with params ModelConfig(width_coefficient=1.1, depth_coefficient=1.2, resolution=260, dropout_rate=0.3, blocks=(BlockConfig(input_filters=32, output_filters=16, kernel_size=3, num_repeat=1, expand_ratio=1, strides=(1, 1), se_ratio=0.25, id_skip=True, fused_conv=False, conv_type='depthwise'), BlockConfig(input_filters=16, output_filters=24, kernel_size=3, num_repeat=2, expand_ratio=6, strides=(2, 2), se_ratio=0.25, id_skip=True, fused_conv=False, conv_type='depthwise'), BlockConfig(input_filters=24, output_filters=40, kernel_size=5, num_repeat=2, expand_ratio=6, strides=(2, 2), se_ratio=0.25, id_skip=True, fused_conv=False, conv_type='depthwise'), BlockConfig(input_filters=40, output_filters=80, kernel_size=3, num_repeat=3, expand_ratio=6, strides=(2, 2), se_ratio=0.25, id_skip=True, fused_conv=False, conv_type='depthwise'), BlockConfig(input_filters=80, output_filters=112, kernel_size=5, num_repeat=3, expand_ratio=6, strides=(1, 1), se_ratio=0.25, id_skip=True, fused_conv=False, conv_type='depthwise'), BlockConfig(input_filters=112, output_filters=192, kernel_size=5, num_repeat=4, expand_ratio=6, strides=(2, 2), se_ratio=0.25, id_skip=True, fused_conv=False, conv_type='depthwise'), BlockConfig(input_filters=192, output_filters=320, kernel_size=3, num_repeat=1, expand_ratio=6, strides=(1, 1), se_ratio=0.25, id_skip=True, fused_conv=False, conv_type='depthwise')), stem_base_filters=32, top_base_filters=1280, activation='simple_swish', batch_norm='default', bn_momentum=0.99, bn_epsilon=0.001, weight_decay=5e-06, drop_connect_rate=0.2, depth_divisor=8, min_depth=None, use_se=True, input_channels=3, num_classes=1000, model_name='efficientnet', rescale_input=False, data_format='channels_last', dtype='float32')\n",
            "I0801 01:16:28.166995 140718800684928 ssd_efficientnet_bifpn_feature_extractor.py:143] EfficientDet EfficientNet backbone version: efficientnet-b3\n",
            "I0801 01:16:28.167264 140718800684928 ssd_efficientnet_bifpn_feature_extractor.py:144] EfficientDet BiFPN num filters: 160\n",
            "I0801 01:16:28.167353 140718800684928 ssd_efficientnet_bifpn_feature_extractor.py:146] EfficientDet BiFPN num iterations: 6\n",
            "I0801 01:16:28.169287 140718800684928 efficientnet_model.py:147] round_filter input=32 output=40\n",
            "I0801 01:16:28.187336 140718800684928 efficientnet_model.py:147] round_filter input=32 output=40\n",
            "I0801 01:16:28.187532 140718800684928 efficientnet_model.py:147] round_filter input=16 output=24\n",
            "I0801 01:16:28.321520 140718800684928 efficientnet_model.py:147] round_filter input=16 output=24\n",
            "I0801 01:16:28.321718 140718800684928 efficientnet_model.py:147] round_filter input=24 output=32\n",
            "I0801 01:16:28.589560 140718800684928 efficientnet_model.py:147] round_filter input=24 output=32\n",
            "I0801 01:16:28.589802 140718800684928 efficientnet_model.py:147] round_filter input=40 output=48\n",
            "I0801 01:16:28.865520 140718800684928 efficientnet_model.py:147] round_filter input=40 output=48\n",
            "I0801 01:16:28.865774 140718800684928 efficientnet_model.py:147] round_filter input=80 output=96\n",
            "I0801 01:16:29.362539 140718800684928 efficientnet_model.py:147] round_filter input=80 output=96\n",
            "I0801 01:16:29.362866 140718800684928 efficientnet_model.py:147] round_filter input=112 output=136\n",
            "I0801 01:16:29.900793 140718800684928 efficientnet_model.py:147] round_filter input=112 output=136\n",
            "I0801 01:16:29.901107 140718800684928 efficientnet_model.py:147] round_filter input=192 output=232\n",
            "I0801 01:16:30.647863 140718800684928 efficientnet_model.py:147] round_filter input=192 output=232\n",
            "I0801 01:16:30.648134 140718800684928 efficientnet_model.py:147] round_filter input=320 output=384\n",
            "I0801 01:16:31.221688 140718800684928 efficientnet_model.py:147] round_filter input=1280 output=1536\n",
            "I0801 01:16:31.293364 140718800684928 efficientnet_model.py:458] Building model efficientnet with params ModelConfig(width_coefficient=1.2, depth_coefficient=1.4, resolution=300, dropout_rate=0.3, blocks=(BlockConfig(input_filters=32, output_filters=16, kernel_size=3, num_repeat=1, expand_ratio=1, strides=(1, 1), se_ratio=0.25, id_skip=True, fused_conv=False, conv_type='depthwise'), BlockConfig(input_filters=16, output_filters=24, kernel_size=3, num_repeat=2, expand_ratio=6, strides=(2, 2), se_ratio=0.25, id_skip=True, fused_conv=False, conv_type='depthwise'), BlockConfig(input_filters=24, output_filters=40, kernel_size=5, num_repeat=2, expand_ratio=6, strides=(2, 2), se_ratio=0.25, id_skip=True, fused_conv=False, conv_type='depthwise'), BlockConfig(input_filters=40, output_filters=80, kernel_size=3, num_repeat=3, expand_ratio=6, strides=(2, 2), se_ratio=0.25, id_skip=True, fused_conv=False, conv_type='depthwise'), BlockConfig(input_filters=80, output_filters=112, kernel_size=5, num_repeat=3, expand_ratio=6, strides=(1, 1), se_ratio=0.25, id_skip=True, fused_conv=False, conv_type='depthwise'), BlockConfig(input_filters=112, output_filters=192, kernel_size=5, num_repeat=4, expand_ratio=6, strides=(2, 2), se_ratio=0.25, id_skip=True, fused_conv=False, conv_type='depthwise'), BlockConfig(input_filters=192, output_filters=320, kernel_size=3, num_repeat=1, expand_ratio=6, strides=(1, 1), se_ratio=0.25, id_skip=True, fused_conv=False, conv_type='depthwise')), stem_base_filters=32, top_base_filters=1280, activation='simple_swish', batch_norm='default', bn_momentum=0.99, bn_epsilon=0.001, weight_decay=5e-06, drop_connect_rate=0.2, depth_divisor=8, min_depth=None, use_se=True, input_channels=3, num_classes=1000, model_name='efficientnet', rescale_input=False, data_format='channels_last', dtype='float32')\n",
            "I0801 01:16:31.375349 140718800684928 ssd_efficientnet_bifpn_feature_extractor.py:143] EfficientDet EfficientNet backbone version: efficientnet-b4\n",
            "I0801 01:16:31.375560 140718800684928 ssd_efficientnet_bifpn_feature_extractor.py:144] EfficientDet BiFPN num filters: 224\n",
            "I0801 01:16:31.375650 140718800684928 ssd_efficientnet_bifpn_feature_extractor.py:146] EfficientDet BiFPN num iterations: 7\n",
            "I0801 01:16:31.377755 140718800684928 efficientnet_model.py:147] round_filter input=32 output=48\n",
            "I0801 01:16:31.394296 140718800684928 efficientnet_model.py:147] round_filter input=32 output=48\n",
            "I0801 01:16:31.394493 140718800684928 efficientnet_model.py:147] round_filter input=16 output=24\n",
            "I0801 01:16:31.535258 140718800684928 efficientnet_model.py:147] round_filter input=16 output=24\n",
            "I0801 01:16:31.535471 140718800684928 efficientnet_model.py:147] round_filter input=24 output=32\n",
            "I0801 01:16:31.879354 140718800684928 efficientnet_model.py:147] round_filter input=24 output=32\n",
            "I0801 01:16:31.879565 140718800684928 efficientnet_model.py:147] round_filter input=40 output=56\n",
            "I0801 01:16:32.240317 140718800684928 efficientnet_model.py:147] round_filter input=40 output=56\n",
            "I0801 01:16:32.240531 140718800684928 efficientnet_model.py:147] round_filter input=80 output=112\n",
            "I0801 01:16:32.770622 140718800684928 efficientnet_model.py:147] round_filter input=80 output=112\n",
            "I0801 01:16:32.770854 140718800684928 efficientnet_model.py:147] round_filter input=112 output=160\n",
            "I0801 01:16:33.384176 140718800684928 efficientnet_model.py:147] round_filter input=112 output=160\n",
            "I0801 01:16:33.384392 140718800684928 efficientnet_model.py:147] round_filter input=192 output=272\n",
            "I0801 01:16:34.359192 140718800684928 efficientnet_model.py:147] round_filter input=192 output=272\n",
            "I0801 01:16:34.359469 140718800684928 efficientnet_model.py:147] round_filter input=320 output=448\n",
            "I0801 01:16:34.678265 140718800684928 efficientnet_model.py:147] round_filter input=1280 output=1792\n",
            "I0801 01:16:34.762046 140718800684928 efficientnet_model.py:458] Building model efficientnet with params ModelConfig(width_coefficient=1.4, depth_coefficient=1.8, resolution=380, dropout_rate=0.4, blocks=(BlockConfig(input_filters=32, output_filters=16, kernel_size=3, num_repeat=1, expand_ratio=1, strides=(1, 1), se_ratio=0.25, id_skip=True, fused_conv=False, conv_type='depthwise'), BlockConfig(input_filters=16, output_filters=24, kernel_size=3, num_repeat=2, expand_ratio=6, strides=(2, 2), se_ratio=0.25, id_skip=True, fused_conv=False, conv_type='depthwise'), BlockConfig(input_filters=24, output_filters=40, kernel_size=5, num_repeat=2, expand_ratio=6, strides=(2, 2), se_ratio=0.25, id_skip=True, fused_conv=False, conv_type='depthwise'), BlockConfig(input_filters=40, output_filters=80, kernel_size=3, num_repeat=3, expand_ratio=6, strides=(2, 2), se_ratio=0.25, id_skip=True, fused_conv=False, conv_type='depthwise'), BlockConfig(input_filters=80, output_filters=112, kernel_size=5, num_repeat=3, expand_ratio=6, strides=(1, 1), se_ratio=0.25, id_skip=True, fused_conv=False, conv_type='depthwise'), BlockConfig(input_filters=112, output_filters=192, kernel_size=5, num_repeat=4, expand_ratio=6, strides=(2, 2), se_ratio=0.25, id_skip=True, fused_conv=False, conv_type='depthwise'), BlockConfig(input_filters=192, output_filters=320, kernel_size=3, num_repeat=1, expand_ratio=6, strides=(1, 1), se_ratio=0.25, id_skip=True, fused_conv=False, conv_type='depthwise')), stem_base_filters=32, top_base_filters=1280, activation='simple_swish', batch_norm='default', bn_momentum=0.99, bn_epsilon=0.001, weight_decay=5e-06, drop_connect_rate=0.2, depth_divisor=8, min_depth=None, use_se=True, input_channels=3, num_classes=1000, model_name='efficientnet', rescale_input=False, data_format='channels_last', dtype='float32')\n",
            "I0801 01:16:34.861374 140718800684928 ssd_efficientnet_bifpn_feature_extractor.py:143] EfficientDet EfficientNet backbone version: efficientnet-b5\n",
            "I0801 01:16:34.861639 140718800684928 ssd_efficientnet_bifpn_feature_extractor.py:144] EfficientDet BiFPN num filters: 288\n",
            "I0801 01:16:34.861705 140718800684928 ssd_efficientnet_bifpn_feature_extractor.py:146] EfficientDet BiFPN num iterations: 7\n",
            "I0801 01:16:34.863725 140718800684928 efficientnet_model.py:147] round_filter input=32 output=48\n",
            "I0801 01:16:34.885124 140718800684928 efficientnet_model.py:147] round_filter input=32 output=48\n",
            "I0801 01:16:34.885441 140718800684928 efficientnet_model.py:147] round_filter input=16 output=24\n",
            "I0801 01:16:35.126443 140718800684928 efficientnet_model.py:147] round_filter input=16 output=24\n",
            "I0801 01:16:35.126707 140718800684928 efficientnet_model.py:147] round_filter input=24 output=40\n",
            "I0801 01:16:35.576781 140718800684928 efficientnet_model.py:147] round_filter input=24 output=40\n",
            "I0801 01:16:35.577011 140718800684928 efficientnet_model.py:147] round_filter input=40 output=64\n",
            "I0801 01:16:36.290247 140718800684928 efficientnet_model.py:147] round_filter input=40 output=64\n",
            "I0801 01:16:36.290449 140718800684928 efficientnet_model.py:147] round_filter input=80 output=128\n",
            "I0801 01:16:37.012836 140718800684928 efficientnet_model.py:147] round_filter input=80 output=128\n",
            "I0801 01:16:37.013105 140718800684928 efficientnet_model.py:147] round_filter input=112 output=176\n",
            "I0801 01:16:37.772692 140718800684928 efficientnet_model.py:147] round_filter input=112 output=176\n",
            "I0801 01:16:37.772981 140718800684928 efficientnet_model.py:147] round_filter input=192 output=304\n",
            "I0801 01:16:38.924062 140718800684928 efficientnet_model.py:147] round_filter input=192 output=304\n",
            "I0801 01:16:38.924325 140718800684928 efficientnet_model.py:147] round_filter input=320 output=512\n",
            "I0801 01:16:39.490183 140718800684928 efficientnet_model.py:147] round_filter input=1280 output=2048\n",
            "I0801 01:16:39.588421 140718800684928 efficientnet_model.py:458] Building model efficientnet with params ModelConfig(width_coefficient=1.6, depth_coefficient=2.2, resolution=456, dropout_rate=0.4, blocks=(BlockConfig(input_filters=32, output_filters=16, kernel_size=3, num_repeat=1, expand_ratio=1, strides=(1, 1), se_ratio=0.25, id_skip=True, fused_conv=False, conv_type='depthwise'), BlockConfig(input_filters=16, output_filters=24, kernel_size=3, num_repeat=2, expand_ratio=6, strides=(2, 2), se_ratio=0.25, id_skip=True, fused_conv=False, conv_type='depthwise'), BlockConfig(input_filters=24, output_filters=40, kernel_size=5, num_repeat=2, expand_ratio=6, strides=(2, 2), se_ratio=0.25, id_skip=True, fused_conv=False, conv_type='depthwise'), BlockConfig(input_filters=40, output_filters=80, kernel_size=3, num_repeat=3, expand_ratio=6, strides=(2, 2), se_ratio=0.25, id_skip=True, fused_conv=False, conv_type='depthwise'), BlockConfig(input_filters=80, output_filters=112, kernel_size=5, num_repeat=3, expand_ratio=6, strides=(1, 1), se_ratio=0.25, id_skip=True, fused_conv=False, conv_type='depthwise'), BlockConfig(input_filters=112, output_filters=192, kernel_size=5, num_repeat=4, expand_ratio=6, strides=(2, 2), se_ratio=0.25, id_skip=True, fused_conv=False, conv_type='depthwise'), BlockConfig(input_filters=192, output_filters=320, kernel_size=3, num_repeat=1, expand_ratio=6, strides=(1, 1), se_ratio=0.25, id_skip=True, fused_conv=False, conv_type='depthwise')), stem_base_filters=32, top_base_filters=1280, activation='simple_swish', batch_norm='default', bn_momentum=0.99, bn_epsilon=0.001, weight_decay=5e-06, drop_connect_rate=0.2, depth_divisor=8, min_depth=None, use_se=True, input_channels=3, num_classes=1000, model_name='efficientnet', rescale_input=False, data_format='channels_last', dtype='float32')\n",
            "I0801 01:16:39.703733 140718800684928 ssd_efficientnet_bifpn_feature_extractor.py:143] EfficientDet EfficientNet backbone version: efficientnet-b6\n",
            "I0801 01:16:39.704035 140718800684928 ssd_efficientnet_bifpn_feature_extractor.py:144] EfficientDet BiFPN num filters: 384\n",
            "I0801 01:16:39.704104 140718800684928 ssd_efficientnet_bifpn_feature_extractor.py:146] EfficientDet BiFPN num iterations: 8\n",
            "I0801 01:16:39.706727 140718800684928 efficientnet_model.py:147] round_filter input=32 output=56\n",
            "I0801 01:16:39.730400 140718800684928 efficientnet_model.py:147] round_filter input=32 output=56\n",
            "I0801 01:16:39.730643 140718800684928 efficientnet_model.py:147] round_filter input=16 output=32\n",
            "I0801 01:16:39.964235 140718800684928 efficientnet_model.py:147] round_filter input=16 output=32\n",
            "I0801 01:16:39.964516 140718800684928 efficientnet_model.py:147] round_filter input=24 output=40\n",
            "I0801 01:16:40.565397 140718800684928 efficientnet_model.py:147] round_filter input=24 output=40\n",
            "I0801 01:16:40.565666 140718800684928 efficientnet_model.py:147] round_filter input=40 output=72\n",
            "I0801 01:16:41.162045 140718800684928 efficientnet_model.py:147] round_filter input=40 output=72\n",
            "I0801 01:16:41.162319 140718800684928 efficientnet_model.py:147] round_filter input=80 output=144\n",
            "I0801 01:16:41.983050 140718800684928 efficientnet_model.py:147] round_filter input=80 output=144\n",
            "I0801 01:16:41.983326 140718800684928 efficientnet_model.py:147] round_filter input=112 output=200\n",
            "I0801 01:16:43.265665 140718800684928 efficientnet_model.py:147] round_filter input=112 output=200\n",
            "I0801 01:16:43.265974 140718800684928 efficientnet_model.py:147] round_filter input=192 output=344\n",
            "I0801 01:16:44.886101 140718800684928 efficientnet_model.py:147] round_filter input=192 output=344\n",
            "I0801 01:16:44.886352 140718800684928 efficientnet_model.py:147] round_filter input=320 output=576\n",
            "I0801 01:16:45.454836 140718800684928 efficientnet_model.py:147] round_filter input=1280 output=2304\n",
            "I0801 01:16:45.548365 140718800684928 efficientnet_model.py:458] Building model efficientnet with params ModelConfig(width_coefficient=1.8, depth_coefficient=2.6, resolution=528, dropout_rate=0.5, blocks=(BlockConfig(input_filters=32, output_filters=16, kernel_size=3, num_repeat=1, expand_ratio=1, strides=(1, 1), se_ratio=0.25, id_skip=True, fused_conv=False, conv_type='depthwise'), BlockConfig(input_filters=16, output_filters=24, kernel_size=3, num_repeat=2, expand_ratio=6, strides=(2, 2), se_ratio=0.25, id_skip=True, fused_conv=False, conv_type='depthwise'), BlockConfig(input_filters=24, output_filters=40, kernel_size=5, num_repeat=2, expand_ratio=6, strides=(2, 2), se_ratio=0.25, id_skip=True, fused_conv=False, conv_type='depthwise'), BlockConfig(input_filters=40, output_filters=80, kernel_size=3, num_repeat=3, expand_ratio=6, strides=(2, 2), se_ratio=0.25, id_skip=True, fused_conv=False, conv_type='depthwise'), BlockConfig(input_filters=80, output_filters=112, kernel_size=5, num_repeat=3, expand_ratio=6, strides=(1, 1), se_ratio=0.25, id_skip=True, fused_conv=False, conv_type='depthwise'), BlockConfig(input_filters=112, output_filters=192, kernel_size=5, num_repeat=4, expand_ratio=6, strides=(2, 2), se_ratio=0.25, id_skip=True, fused_conv=False, conv_type='depthwise'), BlockConfig(input_filters=192, output_filters=320, kernel_size=3, num_repeat=1, expand_ratio=6, strides=(1, 1), se_ratio=0.25, id_skip=True, fused_conv=False, conv_type='depthwise')), stem_base_filters=32, top_base_filters=1280, activation='simple_swish', batch_norm='default', bn_momentum=0.99, bn_epsilon=0.001, weight_decay=5e-06, drop_connect_rate=0.2, depth_divisor=8, min_depth=None, use_se=True, input_channels=3, num_classes=1000, model_name='efficientnet', rescale_input=False, data_format='channels_last', dtype='float32')\n",
            "I0801 01:16:45.679967 140718800684928 ssd_efficientnet_bifpn_feature_extractor.py:143] EfficientDet EfficientNet backbone version: efficientnet-b7\n",
            "I0801 01:16:45.680236 140718800684928 ssd_efficientnet_bifpn_feature_extractor.py:144] EfficientDet BiFPN num filters: 384\n",
            "I0801 01:16:45.680333 140718800684928 ssd_efficientnet_bifpn_feature_extractor.py:146] EfficientDet BiFPN num iterations: 8\n",
            "I0801 01:16:45.682497 140718800684928 efficientnet_model.py:147] round_filter input=32 output=64\n",
            "I0801 01:16:45.701695 140718800684928 efficientnet_model.py:147] round_filter input=32 output=64\n",
            "I0801 01:16:45.701981 140718800684928 efficientnet_model.py:147] round_filter input=16 output=32\n",
            "I0801 01:16:45.999582 140718800684928 efficientnet_model.py:147] round_filter input=16 output=32\n",
            "I0801 01:16:45.999931 140718800684928 efficientnet_model.py:147] round_filter input=24 output=48\n",
            "I0801 01:16:46.735468 140718800684928 efficientnet_model.py:147] round_filter input=24 output=48\n",
            "I0801 01:16:46.735734 140718800684928 efficientnet_model.py:147] round_filter input=40 output=80\n",
            "I0801 01:16:47.483589 140718800684928 efficientnet_model.py:147] round_filter input=40 output=80\n",
            "I0801 01:16:47.483892 140718800684928 efficientnet_model.py:147] round_filter input=80 output=160\n",
            "I0801 01:16:48.604202 140718800684928 efficientnet_model.py:147] round_filter input=80 output=160\n",
            "I0801 01:16:48.604508 140718800684928 efficientnet_model.py:147] round_filter input=112 output=224\n",
            "I0801 01:16:50.041174 140718800684928 efficientnet_model.py:147] round_filter input=112 output=224\n",
            "I0801 01:16:50.041463 140718800684928 efficientnet_model.py:147] round_filter input=192 output=384\n",
            "I0801 01:16:51.904834 140718800684928 efficientnet_model.py:147] round_filter input=192 output=384\n",
            "I0801 01:16:51.905078 140718800684928 efficientnet_model.py:147] round_filter input=320 output=640\n",
            "I0801 01:16:52.787323 140718800684928 efficientnet_model.py:147] round_filter input=1280 output=2560\n",
            "I0801 01:16:52.900743 140718800684928 efficientnet_model.py:458] Building model efficientnet with params ModelConfig(width_coefficient=2.0, depth_coefficient=3.1, resolution=600, dropout_rate=0.5, blocks=(BlockConfig(input_filters=32, output_filters=16, kernel_size=3, num_repeat=1, expand_ratio=1, strides=(1, 1), se_ratio=0.25, id_skip=True, fused_conv=False, conv_type='depthwise'), BlockConfig(input_filters=16, output_filters=24, kernel_size=3, num_repeat=2, expand_ratio=6, strides=(2, 2), se_ratio=0.25, id_skip=True, fused_conv=False, conv_type='depthwise'), BlockConfig(input_filters=24, output_filters=40, kernel_size=5, num_repeat=2, expand_ratio=6, strides=(2, 2), se_ratio=0.25, id_skip=True, fused_conv=False, conv_type='depthwise'), BlockConfig(input_filters=40, output_filters=80, kernel_size=3, num_repeat=3, expand_ratio=6, strides=(2, 2), se_ratio=0.25, id_skip=True, fused_conv=False, conv_type='depthwise'), BlockConfig(input_filters=80, output_filters=112, kernel_size=5, num_repeat=3, expand_ratio=6, strides=(1, 1), se_ratio=0.25, id_skip=True, fused_conv=False, conv_type='depthwise'), BlockConfig(input_filters=112, output_filters=192, kernel_size=5, num_repeat=4, expand_ratio=6, strides=(2, 2), se_ratio=0.25, id_skip=True, fused_conv=False, conv_type='depthwise'), BlockConfig(input_filters=192, output_filters=320, kernel_size=3, num_repeat=1, expand_ratio=6, strides=(1, 1), se_ratio=0.25, id_skip=True, fused_conv=False, conv_type='depthwise')), stem_base_filters=32, top_base_filters=1280, activation='simple_swish', batch_norm='default', bn_momentum=0.99, bn_epsilon=0.001, weight_decay=5e-06, drop_connect_rate=0.2, depth_divisor=8, min_depth=None, use_se=True, input_channels=3, num_classes=1000, model_name='efficientnet', rescale_input=False, data_format='channels_last', dtype='float32')\n",
            "INFO:tensorflow:time(__main__.ModelBuilderTF2Test.test_create_ssd_models_from_config): 32.2s\n",
            "I0801 01:16:53.085756 140718800684928 test_util.py:2103] time(__main__.ModelBuilderTF2Test.test_create_ssd_models_from_config): 32.2s\n",
            "[       OK ] ModelBuilderTF2Test.test_create_ssd_models_from_config\n",
            "[ RUN      ] ModelBuilderTF2Test.test_invalid_faster_rcnn_batchnorm_update\n",
            "INFO:tensorflow:time(__main__.ModelBuilderTF2Test.test_invalid_faster_rcnn_batchnorm_update): 0.0s\n",
            "I0801 01:16:53.096849 140718800684928 test_util.py:2103] time(__main__.ModelBuilderTF2Test.test_invalid_faster_rcnn_batchnorm_update): 0.0s\n",
            "[       OK ] ModelBuilderTF2Test.test_invalid_faster_rcnn_batchnorm_update\n",
            "[ RUN      ] ModelBuilderTF2Test.test_invalid_first_stage_nms_iou_threshold\n",
            "INFO:tensorflow:time(__main__.ModelBuilderTF2Test.test_invalid_first_stage_nms_iou_threshold): 0.0s\n",
            "I0801 01:16:53.099445 140718800684928 test_util.py:2103] time(__main__.ModelBuilderTF2Test.test_invalid_first_stage_nms_iou_threshold): 0.0s\n",
            "[       OK ] ModelBuilderTF2Test.test_invalid_first_stage_nms_iou_threshold\n",
            "[ RUN      ] ModelBuilderTF2Test.test_invalid_model_config_proto\n",
            "INFO:tensorflow:time(__main__.ModelBuilderTF2Test.test_invalid_model_config_proto): 0.0s\n",
            "I0801 01:16:53.100452 140718800684928 test_util.py:2103] time(__main__.ModelBuilderTF2Test.test_invalid_model_config_proto): 0.0s\n",
            "[       OK ] ModelBuilderTF2Test.test_invalid_model_config_proto\n",
            "[ RUN      ] ModelBuilderTF2Test.test_invalid_second_stage_batch_size\n",
            "INFO:tensorflow:time(__main__.ModelBuilderTF2Test.test_invalid_second_stage_batch_size): 0.0s\n",
            "I0801 01:16:53.102880 140718800684928 test_util.py:2103] time(__main__.ModelBuilderTF2Test.test_invalid_second_stage_batch_size): 0.0s\n",
            "[       OK ] ModelBuilderTF2Test.test_invalid_second_stage_batch_size\n",
            "[ RUN      ] ModelBuilderTF2Test.test_session\n",
            "[  SKIPPED ] ModelBuilderTF2Test.test_session\n",
            "[ RUN      ] ModelBuilderTF2Test.test_unknown_faster_rcnn_feature_extractor\n",
            "INFO:tensorflow:time(__main__.ModelBuilderTF2Test.test_unknown_faster_rcnn_feature_extractor): 0.0s\n",
            "I0801 01:16:53.104748 140718800684928 test_util.py:2103] time(__main__.ModelBuilderTF2Test.test_unknown_faster_rcnn_feature_extractor): 0.0s\n",
            "[       OK ] ModelBuilderTF2Test.test_unknown_faster_rcnn_feature_extractor\n",
            "[ RUN      ] ModelBuilderTF2Test.test_unknown_meta_architecture\n",
            "INFO:tensorflow:time(__main__.ModelBuilderTF2Test.test_unknown_meta_architecture): 0.0s\n",
            "I0801 01:16:53.105403 140718800684928 test_util.py:2103] time(__main__.ModelBuilderTF2Test.test_unknown_meta_architecture): 0.0s\n",
            "[       OK ] ModelBuilderTF2Test.test_unknown_meta_architecture\n",
            "[ RUN      ] ModelBuilderTF2Test.test_unknown_ssd_feature_extractor\n",
            "INFO:tensorflow:time(__main__.ModelBuilderTF2Test.test_unknown_ssd_feature_extractor): 0.0s\n",
            "I0801 01:16:53.106621 140718800684928 test_util.py:2103] time(__main__.ModelBuilderTF2Test.test_unknown_ssd_feature_extractor): 0.0s\n",
            "[       OK ] ModelBuilderTF2Test.test_unknown_ssd_feature_extractor\n",
            "----------------------------------------------------------------------\n",
            "Ran 24 tests in 37.634s\n",
            "\n",
            "OK (skipped=1)\n"
          ],
          "name": "stdout"
        }
      ]
    },
    {
      "cell_type": "code",
      "metadata": {
        "colab": {
          "base_uri": "https://localhost:8080/"
        },
        "id": "I9jfvCgJpq9x",
        "outputId": "4ac3ac8c-d6d0-493b-9d45-a0bc4bd1116a"
      },
      "source": [
        "cd /content/"
      ],
      "execution_count": null,
      "outputs": [
        {
          "output_type": "stream",
          "text": [
            "/content\n"
          ],
          "name": "stdout"
        }
      ]
    },
    {
      "cell_type": "code",
      "metadata": {
        "colab": {
          "base_uri": "https://localhost:8080/"
        },
        "id": "VrJxdOH-H3qq",
        "outputId": "219545c7-462c-4f6f-e05e-fc5a10f34249"
      },
      "source": [
        "ls"
      ],
      "execution_count": null,
      "outputs": [
        {
          "output_type": "stream",
          "text": [
            "\u001b[0m\u001b[01;34mmodels\u001b[0m/  \u001b[01;34msample_data\u001b[0m/\n"
          ],
          "name": "stdout"
        }
      ]
    },
    {
      "cell_type": "markdown",
      "metadata": {
        "id": "h7pZoMJLreye"
      },
      "source": [
        "## Set Up Directory abd Sync File"
      ]
    },
    {
      "cell_type": "code",
      "metadata": {
        "colab": {
          "base_uri": "https://localhost:8080/"
        },
        "id": "hHBB3TO-psPj",
        "outputId": "0a2b27a0-8db2-4f17-dbe1-4ed39417589f"
      },
      "source": [
        "from google.colab import drive\n",
        "drive.mount('/content/gdrive/')"
      ],
      "execution_count": null,
      "outputs": [
        {
          "output_type": "stream",
          "text": [
            "Mounted at /content/gdrive/\n"
          ],
          "name": "stdout"
        }
      ]
    },
    {
      "cell_type": "code",
      "metadata": {
        "colab": {
          "base_uri": "https://localhost:8080/"
        },
        "id": "e6Age9uHfNOm",
        "outputId": "4ece4659-7624-43e3-80fa-95e7904c8491"
      },
      "source": [
        "!rsync -av /content/gdrive/MyDrive/workspace/hyperbola_detection/ /content/hyperbola_detection"
      ],
      "execution_count": null,
      "outputs": [
        {
          "output_type": "stream",
          "text": [
            "sending incremental file list\n",
            "created directory /content/hyperbola_detection\n",
            "./\n",
            "exporter_main_v2.py\n",
            "generate_tfrecord.py\n",
            "model_main_tf2.py\n",
            ".ipynb_checkpoints/\n",
            "data/\n",
            "data/label_map.pbtxt\n",
            "data/test.csv\n",
            "data/test.record\n",
            "data/train.csv\n",
            "data/train.record\n",
            "data/.ipynb_checkpoints/\n",
            "exported-models/\n",
            "exported-models/.ipynb_checkpoints/\n",
            "exported-models/my_faster-rcnn/\n",
            "exported-models/my_faster-rcnn/pipeline.config\n",
            "exported-models/my_faster-rcnn/checkpoint/\n",
            "exported-models/my_faster-rcnn/checkpoint/checkpoint\n",
            "exported-models/my_faster-rcnn/checkpoint/ckpt-0.data-00000-of-00001\n",
            "exported-models/my_faster-rcnn/checkpoint/ckpt-0.index\n",
            "exported-models/my_faster-rcnn/saved_model/\n",
            "exported-models/my_faster-rcnn/saved_model/saved_model.pb\n",
            "exported-models/my_faster-rcnn/saved_model/assets/\n",
            "exported-models/my_faster-rcnn/saved_model/variables/\n",
            "exported-models/my_faster-rcnn/saved_model/variables/variables.data-00000-of-00001\n",
            "exported-models/my_faster-rcnn/saved_model/variables/variables.index\n",
            "images/\n",
            "images/test/\n",
            "images/test/dataset1_24_200Mhz.jpg\n",
            "images/test/dataset1_24_200Mhz.xml\n",
            "images/test/dataset1_25_200Mhz.jpg\n",
            "images/test/dataset1_25_200Mhz.xml\n",
            "images/test/dataset1_27_200Mhz.jpg\n",
            "images/test/dataset1_27_200Mhz.xml\n",
            "images/test/dataset2_22_200Mhz.jpg\n",
            "images/test/dataset2_22_200Mhz.xml\n",
            "images/test/dataset2_23_200Mhz.jpg\n",
            "images/test/dataset2_23_200Mhz.xml\n",
            "images/test/dataset2_33_200Mhz.jpg\n",
            "images/test/dataset2_33_200Mhz.xml\n",
            "images/test/dataset3_33_200Mhz.jpg\n",
            "images/test/dataset3_33_200Mhz.xml\n",
            "images/test/dataset3_35_200Mhz.jpg\n",
            "images/test/dataset3_35_200Mhz.xml\n",
            "images/test/dataset3_36_200Mhz.jpg\n",
            "images/test/dataset3_36_200Mhz.xml\n",
            "images/train/\n",
            "images/train/dataset1_0_200Mhz.jpg\n",
            "images/train/dataset1_0_200Mhz.xml\n",
            "images/train/dataset1_10_200Mhz.jpg\n",
            "images/train/dataset1_10_200Mhz.xml\n",
            "images/train/dataset1_11_200Mhz.jpg\n",
            "images/train/dataset1_11_200Mhz.xml\n",
            "images/train/dataset1_12_200Mhz.jpg\n",
            "images/train/dataset1_12_200Mhz.xml\n",
            "images/train/dataset1_13_200Mhz.jpg\n",
            "images/train/dataset1_13_200Mhz.xml\n",
            "images/train/dataset1_14_200Mhz.jpg\n",
            "images/train/dataset1_14_200Mhz.xml\n",
            "images/train/dataset1_15_200Mhz.jpg\n",
            "images/train/dataset1_15_200Mhz.xml\n",
            "images/train/dataset1_16_200Mhz.jpg\n",
            "images/train/dataset1_16_200Mhz.xml\n",
            "images/train/dataset1_17_200Mhz.jpg\n",
            "images/train/dataset1_17_200Mhz.xml\n",
            "images/train/dataset1_18_200Mhz.jpg\n",
            "images/train/dataset1_18_200Mhz.xml\n",
            "images/train/dataset1_1_200Mhz.jpg\n",
            "images/train/dataset1_1_200Mhz.xml\n",
            "images/train/dataset1_20_200Mhz.jpg\n",
            "images/train/dataset1_20_200Mhz.xml\n",
            "images/train/dataset1_22_200Mhz.jpg\n",
            "images/train/dataset1_22_200Mhz.xml\n",
            "images/train/dataset1_23_200Mhz.jpg\n",
            "images/train/dataset1_23_200Mhz.xml\n",
            "images/train/dataset1_2_200Mhz.jpg\n",
            "images/train/dataset1_2_200Mhz.xml\n",
            "images/train/dataset1_3_200Mhz.jpg\n",
            "images/train/dataset1_3_200Mhz.xml\n",
            "images/train/dataset1_4_200Mhz.jpg\n",
            "images/train/dataset1_4_200Mhz.xml\n",
            "images/train/dataset1_5_200Mhz.jpg\n",
            "images/train/dataset1_5_200Mhz.xml\n",
            "images/train/dataset1_6_200Mhz.jpg\n",
            "images/train/dataset1_6_200Mhz.xml\n",
            "images/train/dataset1_7_200Mhz.jpg\n",
            "images/train/dataset1_7_200Mhz.xml\n",
            "images/train/dataset1_8_200Mhz.jpg\n",
            "images/train/dataset1_8_200Mhz.xml\n",
            "images/train/dataset1_9_200Mhz.jpg\n",
            "images/train/dataset1_9_200Mhz.xml\n",
            "images/train/dataset2_0_200Mhz.jpg\n",
            "images/train/dataset2_0_200Mhz.xml\n",
            "images/train/dataset2_10_200Mhz.jpg\n",
            "images/train/dataset2_10_200Mhz.xml\n",
            "images/train/dataset2_11_200Mhz.jpg\n",
            "images/train/dataset2_11_200Mhz.xml\n",
            "images/train/dataset2_12_200Mhz.jpg\n",
            "images/train/dataset2_12_200Mhz.xml\n",
            "images/train/dataset2_13_200Mhz.jpg\n",
            "images/train/dataset2_13_200Mhz.xml\n",
            "images/train/dataset2_14_200Mhz.jpg\n",
            "images/train/dataset2_14_200Mhz.xml\n",
            "images/train/dataset2_15_200Mhz.jpg\n",
            "images/train/dataset2_15_200Mhz.xml\n",
            "images/train/dataset2_17_200Mhz.jpg\n",
            "images/train/dataset2_17_200Mhz.xml\n",
            "images/train/dataset2_18_200Mhz.jpg\n",
            "images/train/dataset2_18_200Mhz.xml\n",
            "images/train/dataset2_19_200Mhz.jpg\n",
            "images/train/dataset2_19_200Mhz.xml\n",
            "images/train/dataset2_1_200Mhz.jpg\n",
            "images/train/dataset2_1_200Mhz.xml\n",
            "images/train/dataset2_20_200Mhz.jpg\n",
            "images/train/dataset2_20_200Mhz.xml\n",
            "images/train/dataset2_21_200Mhz.jpg\n",
            "images/train/dataset2_21_200Mhz.xml\n",
            "images/train/dataset2_2_200Mhz.jpg\n",
            "images/train/dataset2_2_200Mhz.xml\n",
            "images/train/dataset2_3_200Mhz.jpg\n",
            "images/train/dataset2_3_200Mhz.xml\n",
            "images/train/dataset2_4_200Mhz.jpg\n",
            "images/train/dataset2_4_200Mhz.xml\n",
            "images/train/dataset2_5_200Mhz.jpg\n",
            "images/train/dataset2_5_200Mhz.xml\n",
            "images/train/dataset2_6_200Mhz.jpg\n",
            "images/train/dataset2_6_200Mhz.xml\n",
            "images/train/dataset2_7_200Mhz.jpg\n",
            "images/train/dataset2_7_200Mhz.xml\n",
            "images/train/dataset2_8_200Mhz.jpg\n",
            "images/train/dataset2_8_200Mhz.xml\n",
            "images/train/dataset2_9_200Mhz.jpg\n",
            "images/train/dataset2_9_200Mhz.xml\n",
            "images/train/dataset3_11_200Mhz.jpg\n",
            "images/train/dataset3_11_200Mhz.xml\n",
            "images/train/dataset3_12_200Mhz.jpg\n",
            "images/train/dataset3_12_200Mhz.xml\n",
            "images/train/dataset3_14_200Mhz.jpg\n",
            "images/train/dataset3_14_200Mhz.xml\n",
            "images/train/dataset3_15_200Mhz.jpg\n",
            "images/train/dataset3_15_200Mhz.xml\n",
            "images/train/dataset3_16_200Mhz.jpg\n",
            "images/train/dataset3_16_200Mhz.xml\n",
            "images/train/dataset3_17_200Mhz.jpg\n",
            "images/train/dataset3_17_200Mhz.xml\n",
            "images/train/dataset3_1_200Mhz.jpg\n",
            "images/train/dataset3_1_200Mhz.xml\n",
            "images/train/dataset3_20_200Mhz.jpg\n",
            "images/train/dataset3_20_200Mhz.xml\n",
            "images/train/dataset3_21_200Mhz.jpg\n",
            "images/train/dataset3_21_200Mhz.xml\n",
            "images/train/dataset3_23_200Mhz.jpg\n",
            "images/train/dataset3_23_200Mhz.xml\n",
            "images/train/dataset3_24_200Mhz.jpg\n",
            "images/train/dataset3_24_200Mhz.xml\n",
            "images/train/dataset3_27_200Mhz.jpg\n",
            "images/train/dataset3_27_200Mhz.xml\n",
            "images/train/dataset3_2_200Mhz.jpg\n",
            "images/train/dataset3_2_200Mhz.xml\n",
            "images/train/dataset3_30_200Mhz.jpg\n",
            "images/train/dataset3_30_200Mhz.xml\n",
            "images/train/dataset3_31_200Mhz.jpg\n",
            "images/train/dataset3_31_200Mhz.xml\n",
            "images/train/dataset3_3_200Mhz.jpg\n",
            "images/train/dataset3_3_200Mhz.xml\n",
            "images/train/dataset3_4_200Mhz.jpg\n",
            "images/train/dataset3_4_200Mhz.xml\n",
            "images/train/dataset3_5_200Mhz.jpg\n",
            "images/train/dataset3_5_200Mhz.xml\n",
            "images/train/dataset3_6_200Mhz.jpg\n",
            "images/train/dataset3_6_200Mhz.xml\n",
            "images/train/dataset3_8_200Mhz.jpg\n",
            "images/train/dataset3_8_200Mhz.xml\n",
            "images/train/dataset3_9_200Mhz.jpg\n",
            "images/train/dataset3_9_200Mhz.xml\n",
            "models/\n",
            "models/.ipynb_checkpoints/\n",
            "models/my_faster_rcnn_resnet/\n",
            "models/my_faster_rcnn_resnet/checkpoint\n",
            "models/my_faster_rcnn_resnet/ckpt-1.data-00000-of-00001\n",
            "models/my_faster_rcnn_resnet/ckpt-1.index\n",
            "models/my_faster_rcnn_resnet/ckpt-2.data-00000-of-00001\n",
            "models/my_faster_rcnn_resnet/ckpt-2.index\n",
            "models/my_faster_rcnn_resnet/ckpt-3.data-00000-of-00001\n",
            "models/my_faster_rcnn_resnet/ckpt-3.index\n",
            "models/my_faster_rcnn_resnet/ckpt-4.data-00000-of-00001\n",
            "models/my_faster_rcnn_resnet/ckpt-4.index\n",
            "models/my_faster_rcnn_resnet/ckpt-5.data-00000-of-00001\n",
            "models/my_faster_rcnn_resnet/ckpt-5.index\n",
            "models/my_faster_rcnn_resnet/faster-rcnn.config\n",
            "models/my_faster_rcnn_resnet/.ipynb_checkpoints/\n",
            "models/my_faster_rcnn_resnet/eval/\n",
            "models/my_faster_rcnn_resnet/eval/events.out.tfevents.1627713698.0889d74ce052.1525.1640.v2\n",
            "models/my_faster_rcnn_resnet/eval/events.out.tfevents.1627718454.0889d74ce052.2773.1640.v2\n",
            "models/my_faster_rcnn_resnet/train/\n",
            "models/my_faster_rcnn_resnet/train/events.out.tfevents.1627711818.0889d74ce052.849.1503.v2\n",
            "models/my_faster_rcnn_resnet/train/events.out.tfevents.1627712084.0889d74ce052.912.1503.v2\n",
            "models/my_faster_rcnn_resnet/train/events.out.tfevents.1627712176.0889d74ce052.961.1503.v2\n",
            "models/my_faster_rcnn_resnet/train/events.out.tfevents.1627712258.0889d74ce052.1006.1503.v2\n",
            "models/my_faster_rcnn_resnet/train/events.out.tfevents.1627712382.0889d74ce052.1049.1503.v2\n",
            "models/my_faster_rcnn_resnet/train/events.out.tfevents.1627712526.0889d74ce052.1117.1503.v2\n",
            "models/my_faster_rcnn_resnet/train/events.out.tfevents.1627712773.0889d74ce052.1213.1503.v2\n",
            "models/my_faster_rcnn_resnet/train/events.out.tfevents.1627712975.0889d74ce052.1310.1503.v2\n",
            "models/my_faster_rcnn_resnet/train/events.out.tfevents.1627713100.0889d74ce052.1366.1503.v2\n",
            "models/my_faster_rcnn_resnet/train/events.out.tfevents.1627714272.0889d74ce052.1682.1503.v2\n",
            "models/my_faster_rcnn_resnet/train/events.out.tfevents.1627714545.0889d74ce052.1774.1503.v2\n",
            "models/my_faster_rcnn_resnet/train/events.out.tfevents.1627714849.0889d74ce052.1875.1503.v2\n",
            "models/my_faster_rcnn_resnet/train/events.out.tfevents.1627742688.cf8920fc0cec.606.1503.v2\n",
            "pre-trained-models/\n",
            "pre-trained-models/.ipynb_checkpoints/\n",
            "pre-trained-models/faster_rcnn_resnet152_v1_640x640_coco17_tpu-8/\n",
            "pre-trained-models/faster_rcnn_resnet152_v1_640x640_coco17_tpu-8/pipeline.config\n",
            "pre-trained-models/faster_rcnn_resnet152_v1_640x640_coco17_tpu-8/checkpoint/\n",
            "pre-trained-models/faster_rcnn_resnet152_v1_640x640_coco17_tpu-8/checkpoint/checkpoint\n",
            "pre-trained-models/faster_rcnn_resnet152_v1_640x640_coco17_tpu-8/checkpoint/ckpt-0.data-00000-of-00001\n",
            "pre-trained-models/faster_rcnn_resnet152_v1_640x640_coco17_tpu-8/checkpoint/ckpt-0.index\n",
            "pre-trained-models/faster_rcnn_resnet152_v1_640x640_coco17_tpu-8/saved_model/\n",
            "pre-trained-models/faster_rcnn_resnet152_v1_640x640_coco17_tpu-8/saved_model/saved_model.pb\n",
            "pre-trained-models/faster_rcnn_resnet152_v1_640x640_coco17_tpu-8/saved_model/variables/\n",
            "pre-trained-models/faster_rcnn_resnet152_v1_640x640_coco17_tpu-8/saved_model/variables/variables.data-00000-of-00001\n",
            "pre-trained-models/faster_rcnn_resnet152_v1_640x640_coco17_tpu-8/saved_model/variables/variables.index\n",
            "\n",
            "sent 2,570,191,112 bytes  received 3,927 bytes  18,036,456.41 bytes/sec\n",
            "total size is 2,569,550,304  speedup is 1.00\n"
          ],
          "name": "stdout"
        }
      ]
    },
    {
      "cell_type": "code",
      "metadata": {
        "colab": {
          "base_uri": "https://localhost:8080/"
        },
        "id": "G1Mly8uhVDjP",
        "outputId": "4adf9d74-b422-4fdf-f61a-27f6795e8a78"
      },
      "source": [
        "!rsync -av /content/hyperbola_detection/ /content/gdrive/MyDrive/workspace/hyperbola_detection"
      ],
      "execution_count": null,
      "outputs": [
        {
          "output_type": "stream",
          "text": [
            "sending incremental file list\n",
            "./\n",
            "model_main_tf2.py\n",
            "models/my_faster_rcnn_resnet/train/\n",
            "models/my_faster_rcnn_resnet/train/events.out.tfevents.1627742688.cf8920fc0cec.606.1503.v2\n",
            "\n",
            "sent 264,445 bytes  received 93 bytes  176,358.67 bytes/sec\n",
            "total size is 2,569,550,304  speedup is 9,713.35\n"
          ],
          "name": "stdout"
        }
      ]
    },
    {
      "cell_type": "code",
      "metadata": {
        "colab": {
          "base_uri": "https://localhost:8080/"
        },
        "id": "tJE4-DQdxNod",
        "outputId": "93bb285f-da5e-41a8-adba-ea2002320215"
      },
      "source": [
        "ls"
      ],
      "execution_count": null,
      "outputs": [
        {
          "output_type": "stream",
          "text": [
            "\u001b[0m\u001b[01;34mdata\u001b[0m/             exporter_main_v2.py   \u001b[01;34mimages\u001b[0m/            \u001b[01;34mmodels\u001b[0m/\n",
            "\u001b[01;34mexported-models\u001b[0m/  generate_tfrecord.py  model_main_tf2.py  \u001b[01;34mpre-trained-models\u001b[0m/\n"
          ],
          "name": "stdout"
        }
      ]
    },
    {
      "cell_type": "code",
      "metadata": {
        "colab": {
          "base_uri": "https://localhost:8080/"
        },
        "id": "dnqvR7PMA8mg",
        "outputId": "e00745fb-e358-47ed-82df-10a0b6bc02ba"
      },
      "source": [
        "cd hyperbola_detection"
      ],
      "execution_count": null,
      "outputs": [
        {
          "output_type": "stream",
          "text": [
            "/content/hyperbola_detection\n"
          ],
          "name": "stdout"
        }
      ]
    },
    {
      "cell_type": "code",
      "metadata": {
        "colab": {
          "base_uri": "https://localhost:8080/"
        },
        "id": "1U-_1T3lBfIR",
        "outputId": "b228b26a-8e1b-4448-d53b-fd55c4e6f1d6"
      },
      "source": [
        "ls"
      ],
      "execution_count": null,
      "outputs": [
        {
          "output_type": "stream",
          "text": [
            "\u001b[0m\u001b[01;34mdata\u001b[0m/             exporter_main_v2.py   \u001b[01;34mimages\u001b[0m/            \u001b[01;34mmodels\u001b[0m/\n",
            "\u001b[01;34mexported-models\u001b[0m/  generate_tfrecord.py  model_main_tf2.py  \u001b[01;34mpre-trained-models\u001b[0m/\n"
          ],
          "name": "stdout"
        }
      ]
    },
    {
      "cell_type": "code",
      "metadata": {
        "colab": {
          "base_uri": "https://localhost:8080/"
        },
        "id": "xYoJUyauCGyn",
        "outputId": "354e530b-67be-4800-b901-ab33741e107a"
      },
      "source": [
        "%%bash\n",
        "\n",
        "for i in 1 2 3\n",
        "do\n",
        "   python model_main_tf2.py --model_dir=/content/hyperbola_detection/models/my_faster_rcnn_resnet \\\n",
        "  --pipeline_config_path=/content/hyperbola_detection/models/my_faster_rcnn_resnet/faster-rcnn.config \\\n",
        "  --NUM_TRAIN_STEPS=2000 \\\n",
        "  --sample_1_of_n_eval_examples=1 \\\n",
        "  --alsologtostderr\n",
        "\n",
        "  python model_main_tf2.py --model_dir=/content/hyperbola_detection/models/my_faster_rcnn_resnet \\\n",
        "  --pipeline_config_path=/content/hyperbola_detection/models/my_faster_rcnn_resnet/faster-rcnn.config \\\n",
        "  --checkpoint_dir=/content/hyperbola_detection/models/my_faster_rcnn_resnet \\\n",
        "  --alsologtostderr\n",
        "done"
      ],
      "execution_count": null,
      "outputs": [
        {
          "output_type": "stream",
          "text": [
            "Process is terminated.\n"
          ],
          "name": "stdout"
        }
      ]
    },
    {
      "cell_type": "markdown",
      "metadata": {
        "id": "MabzFUHgKDSb"
      },
      "source": [
        "## Training NN"
      ]
    },
    {
      "cell_type": "code",
      "metadata": {
        "colab": {
          "background_save": true
        },
        "id": "K6fBMKzeKE_O",
        "outputId": "5fe17a40-47fc-4f94-bb0b-e599bfed84ec"
      },
      "source": [
        "%%bash\n",
        "python model_main_tf2.py --model_dir=/content/hyperbola_detection/models/my_faster_rcnn_resnet \\\n",
        "  --pipeline_config_path=/content/hyperbola_detection/models/my_faster_rcnn_resnet/faster-rcnn.config \\\n",
        "  --sample_1_of_n_eval_examples=1 \\\n",
        "  --alsologtostderr"
      ],
      "execution_count": null,
      "outputs": [
        {
          "output_type": "stream",
          "text": [
            "python3: can't open file 'model_main_tf2.py': [Errno 2] No such file or directory\n"
          ],
          "name": "stderr"
        }
      ]
    },
    {
      "cell_type": "markdown",
      "metadata": {
        "id": "zQXlglY9SZGL"
      },
      "source": [
        "## Evaluating"
      ]
    },
    {
      "cell_type": "code",
      "metadata": {
        "colab": {
          "base_uri": "https://localhost:8080/"
        },
        "id": "-YOahXp7K1BT",
        "outputId": "fa4adaf3-a803-44f9-92a8-f5d6181d1dd6"
      },
      "source": [
        "%%bash\n",
        "python model_main_tf2.py --model_dir=/content/hyperbola_detection/models/my_faster_rcnn_resnet \\\n",
        "  --pipeline_config_path=/content/hyperbola_detection/models/my_faster_rcnn_resnet/faster-rcnn.config \\\n",
        "  --checkpoint_dir=/content/hyperbola_detection/models/my_faster_rcnn_resnet \\\n",
        "  --alsologtostderr"
      ],
      "execution_count": null,
      "outputs": [
        {
          "output_type": "stream",
          "text": [
            "Process is terminated.\n"
          ],
          "name": "stdout"
        }
      ]
    },
    {
      "cell_type": "code",
      "metadata": {
        "id": "m8txwynHlnxk"
      },
      "source": [
        ""
      ],
      "execution_count": null,
      "outputs": []
    },
    {
      "cell_type": "markdown",
      "metadata": {
        "id": "K9lRg1l4loLY"
      },
      "source": [
        "## Tensorboard (Performance Tracking)"
      ]
    },
    {
      "cell_type": "code",
      "metadata": {
        "id": "otYj8BLtmFAr"
      },
      "source": [
        "# %load_ext tensorboard\n",
        "# %tensorboard --logdir=/content/hyperbola_detection/models/my_faster_rcnn_resnet"
      ],
      "execution_count": null,
      "outputs": []
    },
    {
      "cell_type": "code",
      "metadata": {
        "colab": {
          "base_uri": "https://localhost:8080/"
        },
        "id": "Qivz2dY3mxsn",
        "outputId": "b8ebff72-0990-4337-9a5a-130350b73933"
      },
      "source": [
        "# from tensorboard import notebook\n",
        "# notebook.list()"
      ],
      "execution_count": null,
      "outputs": [
        {
          "output_type": "stream",
          "text": [
            "Known TensorBoard instances:\n",
            "  - port 6006: logdir /content/hyperbola_detection/models/my_faster_rcnn_resnet (started 0:03:31 ago; pid 2840)\n"
          ],
          "name": "stdout"
        }
      ]
    },
    {
      "cell_type": "markdown",
      "metadata": {
        "id": "a1UEdQXbck95"
      },
      "source": [
        "## EXporting Model"
      ]
    },
    {
      "cell_type": "code",
      "metadata": {
        "id": "DX0S2pi1cnwJ"
      },
      "source": [
        "# %%bash\n",
        "# python exporter_main_v2.py --input_type image_tensor --pipeline_config_path /content/hyperbola_detection/models/my_faster_rcnn_resnet/faster-rcnn.config --trained_checkpoint_dir /content/hyperbola_detection/models/my_faster_rcnn_resnet --output_directory /content/hyperbola_detection/exported-models/my_faster-rcnn"
      ],
      "execution_count": null,
      "outputs": []
    },
    {
      "cell_type": "markdown",
      "metadata": {
        "id": "NVQWaAnqfvhB"
      },
      "source": [
        "## Inferencing"
      ]
    },
    {
      "cell_type": "code",
      "metadata": {
        "id": "8zgk0UF3gHh7"
      },
      "source": [
        "import os\n",
        "from glob import glob\n",
        "\n",
        "import time\n",
        "from object_detection.utils import label_map_util\n",
        "from object_detection.utils import visualization_utils as viz_utils\n",
        "\n",
        "import numpy as np\n",
        "from PIL import Image\n",
        "import matplotlib.pyplot as plt\n",
        "import warnings\n",
        "\n",
        "warnings.filterwarnings('ignore')   # Suppress Matplotlib warnings\n",
        "%matplotlib inline"
      ],
      "execution_count": null,
      "outputs": []
    },
    {
      "cell_type": "code",
      "metadata": {
        "id": "V5ELhAQtgGDG"
      },
      "source": [
        "IMAGE_PATHS = \"/content/hyperbola_detection/images/test\"\n",
        "IMAGE_PATHS = glob(os.path.join(IMAGE_PATHS, '*.jpg'))\n",
        "\n",
        "LABEL_FILENAME = 'label_map.pbtxt'\n",
        "PATH_TO_LABELS = os.path.join('data', LABEL_FILENAME)\n",
        "\n",
        "category_index = label_map_util.create_category_index_from_labelmap(PATH_TO_LABELS,\n",
        "                                                                    use_display_name=True)"
      ],
      "execution_count": null,
      "outputs": []
    },
    {
      "cell_type": "code",
      "metadata": {
        "colab": {
          "base_uri": "https://localhost:8080/"
        },
        "id": "HT2cJoEChcqO",
        "outputId": "801a6f6a-26fb-49eb-a17f-59f55732a854"
      },
      "source": [
        "PATH_TO_MODEL_DIR = \"exported-models/my_faster-rcnn\"\n",
        "PATH_TO_SAVED_MODEL = PATH_TO_MODEL_DIR + \"/saved_model\"\n",
        "\n",
        "print('Loading model...', end='')\n",
        "start_time = time.time()\n",
        "\n",
        "# Load saved model and build the detection function\n",
        "detect_fn = tf.saved_model.load(PATH_TO_SAVED_MODEL)\n",
        "\n",
        "end_time = time.time()\n",
        "elapsed_time = end_time - start_time\n",
        "print('Done! Took {} seconds'.format(elapsed_time))"
      ],
      "execution_count": null,
      "outputs": [
        {
          "output_type": "stream",
          "text": [
            "Loading model...Done! Took 18.883309841156006 seconds\n"
          ],
          "name": "stdout"
        }
      ]
    },
    {
      "cell_type": "code",
      "metadata": {
        "id": "ZdG1N0AqfwwW"
      },
      "source": [
        "def load_image_into_numpy_array(path):\n",
        "    \"\"\"Load an image from file into a numpy array.\n",
        "\n",
        "    Puts image into numpy array to feed into tensorflow graph.\n",
        "    Note that by convention we put it into a numpy array with shape\n",
        "    (height, width, channels), where channels=3 for RGB.\n",
        "\n",
        "    Args:\n",
        "      path: the file path to the image\n",
        "\n",
        "    Returns:\n",
        "      uint8 numpy array with shape (img_height, img_width, 3)\n",
        "    \"\"\"\n",
        "    return np.array(Image.open(path).convert('RGB'))\n",
        "\n",
        "for image_path in IMAGE_PATHS[:]:\n",
        "\n",
        "    print('Running inference for {}... '.format(image_path), end='')\n",
        "    start_time = time.time()\n",
        "\n",
        "    image_np = load_image_into_numpy_array(image_path)\n",
        "\n",
        "    # Things to try:\n",
        "    # Flip horizontally\n",
        "    # image_np = np.fliplr(image_np).copy()\n",
        "\n",
        "    # The input needs to be a tensor, convert it using `tf.convert_to_tensor`.\n",
        "    input_tensor = tf.convert_to_tensor(image_np)\n",
        "    # The model expects a batch of images, so add an axis with `tf.newaxis`.\n",
        "    input_tensor = input_tensor[tf.newaxis, ...]\n",
        "\n",
        "    # input_tensor = np.expand_dims(image_np, 0)\n",
        "    detections = detect_fn(input_tensor)\n",
        "\n",
        "    # All outputs are batches tensors.\n",
        "    # Convert to numpy arrays, and take index [0] to remove the batch dimension.\n",
        "    # We're only interested in the first num_detections.\n",
        "    num_detections = int(detections.pop('num_detections'))\n",
        "    detections = {key: value[0, :num_detections].numpy()\n",
        "                   for key, value in detections.items()}\n",
        "    detections['num_detections'] = num_detections\n",
        "\n",
        "    # detection_classes should be ints.\n",
        "    detections['detection_classes'] = detections['detection_classes'].astype(np.int64)\n",
        "\n",
        "    image_np_with_detections = image_np.copy()\n",
        "\n",
        "    viz_utils.visualize_boxes_and_labels_on_image_array(\n",
        "          image_np_with_detections,\n",
        "          detections['detection_boxes'],\n",
        "          detections['detection_classes'],\n",
        "          detections['detection_scores'],\n",
        "          category_index,\n",
        "          use_normalized_coordinates=True,\n",
        "          max_boxes_to_draw=200,\n",
        "          min_score_thresh=.20,\n",
        "          agnostic_mode=False)\n",
        "\n",
        "    plt.figure()\n",
        "    plt.imshow(image_np_with_detections)\n",
        "    plt.show()\n",
        "\n",
        "    end_time = time.time()\n",
        "    elapsed_time = end_time - start_time\n",
        "    print('Done! Took {} seconds'.format(elapsed_time))\n",
        "    print(\" \")\n",
        "\n",
        "# sphinx_gallery_thumbnail_number = 2\n"
      ],
      "execution_count": null,
      "outputs": []
    },
    {
      "cell_type": "code",
      "metadata": {
        "colab": {
          "base_uri": "https://localhost:8080/"
        },
        "id": "ritka9qojt57",
        "outputId": "f5b89144-810c-48f1-a322-75bfc8adc765"
      },
      "source": [
        "load_image_into_numpy_array(image_path).shape"
      ],
      "execution_count": null,
      "outputs": [
        {
          "output_type": "execute_result",
          "data": {
            "text/plain": [
              "(250, 500, 4)"
            ]
          },
          "metadata": {
            "tags": []
          },
          "execution_count": 111
        }
      ]
    },
    {
      "cell_type": "code",
      "metadata": {
        "colab": {
          "base_uri": "https://localhost:8080/"
        },
        "id": "39B32qE4j_CU",
        "outputId": "7e8722d7-d8af-473a-c1ca-f70b110a9328"
      },
      "source": [
        "detections"
      ],
      "execution_count": null,
      "outputs": [
        {
          "output_type": "execute_result",
          "data": {
            "text/plain": [
              "{'detection_anchor_indices': array([  1.,  17.,  37., 193., 184., 166., 279., 274., 263., 133.,  20.,\n",
              "        127.,  12., 190., 118., 115.,  52., 211., 282., 247., 228., 266.,\n",
              "         18., 244., 142., 189., 176.,  51., 229., 180., 252.,  79., 248.,\n",
              "        270., 109., 250., 125., 208., 181., 257., 227., 220., 185., 272.,\n",
              "        268., 149., 186.,  80., 195., 215., 259., 152., 273., 287., 251.,\n",
              "        283., 254., 213.], dtype=float32),\n",
              " 'detection_boxes': array([[2.4631639e-01, 6.4320517e-01, 5.4651040e-01, 9.9682534e-01],\n",
              "        [2.8363821e-01, 4.2685467e-01, 5.9455436e-01, 9.1121864e-01],\n",
              "        [3.2577452e-01, 2.2904603e-01, 7.2670782e-01, 9.8412651e-01],\n",
              "        [4.4680354e-01, 5.1110232e-01, 7.5444341e-01, 9.9658775e-01],\n",
              "        [4.9204323e-01, 1.5605824e-01, 7.7926558e-01, 6.7486584e-01],\n",
              "        [4.3177971e-01, 1.8021345e-01, 7.6695198e-01, 9.0130854e-01],\n",
              "        [2.5751820e-01, 9.2103320e-01, 5.6257850e-01, 9.9224424e-01],\n",
              "        [3.6296114e-01, 2.6742917e-01, 6.2110227e-01, 8.3914536e-01],\n",
              "        [2.9753599e-01, 5.0104457e-01, 6.4657795e-01, 8.2626170e-01],\n",
              "        [2.9683462e-01, 6.6688627e-01, 5.1816058e-01, 8.3971065e-01],\n",
              "        [2.6170108e-01, 6.9501585e-01, 5.1945972e-01, 8.8278121e-01],\n",
              "        [2.3318616e-01, 6.9198728e-01, 4.6577221e-01, 9.9148095e-01],\n",
              "        [3.0979154e-01, 5.2840298e-01, 7.0143592e-01, 9.7413808e-01],\n",
              "        [2.2652140e-01, 5.2396321e-01, 4.9556524e-01, 9.7139418e-01],\n",
              "        [4.0299281e-01, 1.2491822e-02, 7.6839936e-01, 5.2161735e-01],\n",
              "        [5.5958432e-01, 4.8195720e-01, 8.9172041e-01, 9.9124759e-01],\n",
              "        [2.3092817e-01, 7.6786762e-01, 4.8220035e-01, 8.8252306e-01],\n",
              "        [5.7479095e-01, 8.5650377e-02, 8.2508391e-01, 6.1377871e-01],\n",
              "        [2.5806180e-01, 8.8621855e-01, 5.4052895e-01, 9.8437399e-01],\n",
              "        [3.4034345e-01, 6.7126626e-01, 5.8349413e-01, 1.0000000e+00],\n",
              "        [2.6170525e-01, 8.1763166e-01, 5.8201730e-01, 9.9725050e-01],\n",
              "        [2.6209930e-01, 6.9765979e-01, 5.1117545e-01, 8.0981904e-01],\n",
              "        [6.6690087e-01, 3.9980039e-01, 9.1785091e-01, 1.0000000e+00],\n",
              "        [3.0217171e-01, 5.5436713e-01, 6.8457359e-01, 7.5060201e-01],\n",
              "        [3.2485923e-01, 6.9789946e-01, 8.4279728e-01, 9.9692595e-01],\n",
              "        [4.6859199e-01, 4.9700238e-02, 8.7816924e-01, 5.4731125e-01],\n",
              "        [2.5390932e-01, 6.4936745e-01, 6.0410178e-01, 8.7416852e-01],\n",
              "        [2.4524842e-01, 7.4517691e-01, 5.1787734e-01, 9.5235103e-01],\n",
              "        [3.1351668e-01, 0.0000000e+00, 6.7383373e-01, 4.7800723e-01],\n",
              "        [3.9448923e-01, 3.5585338e-01, 6.8913215e-01, 8.6207217e-01],\n",
              "        [1.3605131e-01, 1.4108539e-03, 3.7050468e-01, 2.3656140e-01],\n",
              "        [3.0269828e-01, 7.3631072e-01, 5.4998773e-01, 9.2278433e-01],\n",
              "        [5.3351873e-01, 9.1799500e-04, 8.4868520e-01, 3.3240056e-01],\n",
              "        [1.7415427e-01, 6.5460175e-01, 4.1885501e-01, 1.0000000e+00],\n",
              "        [1.2440111e-01, 5.5686653e-01, 3.7600181e-01, 1.0000000e+00],\n",
              "        [5.5575544e-01, 1.7524004e-03, 9.1943187e-01, 4.2900974e-01],\n",
              "        [2.5902387e-01, 8.5402346e-01, 5.3270102e-01, 9.6573347e-01],\n",
              "        [5.9217668e-01, 7.3219651e-01, 9.3337101e-01, 9.9915212e-01],\n",
              "        [1.9384497e-01, 7.4444187e-01, 4.3138561e-01, 8.5667449e-01],\n",
              "        [9.5132869e-01, 1.6332710e-02, 9.9297029e-01, 3.1222972e-01],\n",
              "        [2.1073154e-01, 7.1568912e-01, 4.1485348e-01, 8.9529848e-01],\n",
              "        [3.5541973e-01, 1.2692214e-04, 8.3021814e-01, 3.0594644e-01],\n",
              "        [1.1479559e-01, 0.0000000e+00, 3.8061190e-01, 3.9410576e-01],\n",
              "        [3.2438293e-01, 5.9899253e-01, 5.8077484e-01, 7.0174658e-01],\n",
              "        [2.5405586e-01, 7.9770696e-01, 8.0298483e-01, 9.9675936e-01],\n",
              "        [3.0044171e-01, 7.9611719e-01, 5.4646361e-01, 9.7085136e-01],\n",
              "        [2.5245169e-01, 7.6721996e-01, 4.4402328e-01, 1.0000000e+00],\n",
              "        [2.3376365e-01, 8.0753422e-01, 4.8560229e-01, 9.3457603e-01],\n",
              "        [1.8017237e-01, 6.9862604e-03, 4.2647859e-01, 2.8731430e-01],\n",
              "        [2.2845340e-01, 6.9770843e-01, 3.8818344e-01, 9.5584649e-01],\n",
              "        [1.5563373e-01, 0.0000000e+00, 4.7588348e-01, 4.8604336e-01],\n",
              "        [2.6829672e-01, 1.3483883e-03, 5.9264463e-01, 3.5687217e-01],\n",
              "        [2.2458819e-01, 8.3614463e-01, 4.3645841e-01, 9.5307392e-01],\n",
              "        [8.5238457e-01, 7.3454881e-01, 9.8810160e-01, 1.0000000e+00],\n",
              "        [3.4516859e-01, 7.7550000e-01, 5.8596337e-01, 8.8262433e-01],\n",
              "        [3.9481044e-01, 7.2466969e-01, 5.6930518e-01, 9.7046721e-01],\n",
              "        [3.4284303e-01, 8.2234156e-01, 6.0568351e-01, 9.3046856e-01],\n",
              "        [5.2015044e-02, 0.0000000e+00, 2.7871943e-01, 4.6556312e-01]],\n",
              "       dtype=float32),\n",
              " 'detection_classes': array([1, 1, 1, 1, 1, 1, 1, 1, 1, 1, 1, 1, 1, 1, 1, 1, 1, 1, 1, 1, 1, 1,\n",
              "        1, 1, 1, 1, 1, 1, 1, 1, 1, 1, 1, 1, 1, 1, 1, 1, 1, 1, 1, 1, 1, 1,\n",
              "        1, 1, 1, 1, 1, 1, 1, 1, 1, 1, 1, 1, 1, 1]),\n",
              " 'detection_multiclass_scores': array([[1.00093626e-03, 9.98999059e-01],\n",
              "        [7.27387369e-01, 2.72612572e-01],\n",
              "        [9.22282577e-01, 7.77174011e-02],\n",
              "        [9.97645080e-01, 2.35492713e-03],\n",
              "        [9.98149872e-01, 1.85013714e-03],\n",
              "        [9.99070108e-01, 9.29866743e-04],\n",
              "        [9.99833345e-01, 1.66603044e-04],\n",
              "        [9.99851227e-01, 1.48712497e-04],\n",
              "        [9.99873996e-01, 1.25992738e-04],\n",
              "        [9.99889851e-01, 1.10106048e-04],\n",
              "        [9.99902964e-01, 9.70684705e-05],\n",
              "        [9.99915600e-01, 8.44333917e-05],\n",
              "        [9.99923468e-01, 7.65540462e-05],\n",
              "        [9.99930501e-01, 6.95253621e-05],\n",
              "        [9.99941945e-01, 5.80364540e-05],\n",
              "        [9.99969602e-01, 3.03620563e-05],\n",
              "        [9.99972343e-01, 2.76226401e-05],\n",
              "        [9.99975920e-01, 2.40384288e-05],\n",
              "        [9.99976397e-01, 2.36160013e-05],\n",
              "        [9.99978423e-01, 2.16045082e-05],\n",
              "        [9.99979854e-01, 2.01683761e-05],\n",
              "        [9.99985695e-01, 1.42845365e-05],\n",
              "        [9.99986291e-01, 1.37417146e-05],\n",
              "        [9.99987006e-01, 1.30520357e-05],\n",
              "        [9.99987125e-01, 1.28692827e-05],\n",
              "        [9.99989748e-01, 1.02842951e-05],\n",
              "        [9.99991655e-01, 8.29593500e-06],\n",
              "        [9.99992013e-01, 7.97731900e-06],\n",
              "        [9.99992490e-01, 7.53290215e-06],\n",
              "        [9.99992847e-01, 7.19978289e-06],\n",
              "        [9.99994278e-01, 5.69444546e-06],\n",
              "        [9.99995947e-01, 4.01976149e-06],\n",
              "        [9.99996185e-01, 3.83021552e-06],\n",
              "        [9.99997139e-01, 2.86487125e-06],\n",
              "        [9.99997497e-01, 2.56066210e-06],\n",
              "        [9.99997735e-01, 2.24449332e-06],\n",
              "        [9.99998331e-01, 1.64791811e-06],\n",
              "        [9.99998331e-01, 1.62095591e-06],\n",
              "        [9.99998689e-01, 1.31120044e-06],\n",
              "        [9.99998808e-01, 1.18527510e-06],\n",
              "        [9.99998927e-01, 1.07522044e-06],\n",
              "        [9.99999046e-01, 8.99146698e-07],\n",
              "        [9.99999166e-01, 8.68089444e-07],\n",
              "        [9.99999166e-01, 8.52542939e-07],\n",
              "        [9.99999166e-01, 8.40083089e-07],\n",
              "        [9.99999166e-01, 8.28027112e-07],\n",
              "        [9.99999166e-01, 7.79793652e-07],\n",
              "        [9.99999285e-01, 7.57530984e-07],\n",
              "        [9.99999285e-01, 6.65240293e-07],\n",
              "        [9.99999404e-01, 6.03109186e-07],\n",
              "        [9.99999404e-01, 5.51069888e-07],\n",
              "        [9.99999523e-01, 5.25303790e-07],\n",
              "        [9.99999881e-01, 1.44899303e-07],\n",
              "        [9.99999881e-01, 1.13144139e-07],\n",
              "        [9.99999881e-01, 9.57809903e-08],\n",
              "        [9.99999881e-01, 6.55420962e-08],\n",
              "        [1.00000000e+00, 4.11058139e-08],\n",
              "        [1.00000000e+00, 1.53002577e-09]], dtype=float32),\n",
              " 'detection_scores': array([9.98999059e-01, 2.72612572e-01, 7.77174011e-02, 2.35492713e-03,\n",
              "        1.85013714e-03, 9.29866743e-04, 1.66603044e-04, 1.48712497e-04,\n",
              "        1.25992738e-04, 1.10106048e-04, 9.70684705e-05, 8.44333917e-05,\n",
              "        7.65540462e-05, 6.95253621e-05, 5.80364540e-05, 3.03620563e-05,\n",
              "        2.76226401e-05, 2.40384288e-05, 2.36160013e-05, 2.16045082e-05,\n",
              "        2.01683761e-05, 1.42845365e-05, 1.37417146e-05, 1.30520357e-05,\n",
              "        1.28692827e-05, 1.02842951e-05, 8.29593500e-06, 7.97731900e-06,\n",
              "        7.53290215e-06, 7.19978289e-06, 5.69444546e-06, 4.01976149e-06,\n",
              "        3.83021552e-06, 2.86487125e-06, 2.56066210e-06, 2.24449332e-06,\n",
              "        1.64791811e-06, 1.62095591e-06, 1.31120044e-06, 1.18527510e-06,\n",
              "        1.07522044e-06, 8.99146698e-07, 8.68089444e-07, 8.52542939e-07,\n",
              "        8.40083089e-07, 8.28027112e-07, 7.79793652e-07, 7.57530984e-07,\n",
              "        6.65240293e-07, 6.03109186e-07, 5.51069888e-07, 5.25303790e-07,\n",
              "        1.44899303e-07, 1.13144139e-07, 9.57809903e-08, 6.55420962e-08,\n",
              "        4.11058139e-08, 1.53002577e-09], dtype=float32),\n",
              " 'num_detections': 58,\n",
              " 'raw_detection_boxes': array([[0.25002578, 0.64733213, 0.55096096, 0.9881895 ],\n",
              "        [0.24631639, 0.64320517, 0.5465104 , 0.99682534],\n",
              "        [0.251641  , 0.6435859 , 0.548555  , 0.99595463],\n",
              "        [0.25007913, 0.6349633 , 0.55356663, 0.9921195 ],\n",
              "        [0.2478919 , 0.6420461 , 0.54910916, 0.9962358 ],\n",
              "        [0.24872461, 0.6462648 , 0.5489423 , 0.99437   ],\n",
              "        [0.2519532 , 0.6422247 , 0.55261564, 0.99379295],\n",
              "        [0.3242216 , 0.322932  , 0.67841357, 0.9271372 ],\n",
              "        [0.2533981 , 0.6343309 , 0.55118424, 0.9979984 ],\n",
              "        [0.25711226, 0.64305115, 0.5518847 , 1.        ],\n",
              "        [0.27224964, 0.57308483, 0.673881  , 0.9838845 ],\n",
              "        [0.25404856, 0.63529253, 0.5555813 , 0.9863469 ],\n",
              "        [0.30979154, 0.528403  , 0.7014359 , 0.9741381 ],\n",
              "        [0.25823623, 0.64974403, 0.5481333 , 0.9948353 ],\n",
              "        [0.25172186, 0.63286537, 0.55171424, 0.9965996 ],\n",
              "        [0.45177078, 0.5253636 , 0.7498979 , 0.99170345],\n",
              "        [0.25339314, 0.63863444, 0.5583405 , 0.98286   ],\n",
              "        [0.2836382 , 0.42685467, 0.59455436, 0.91121864],\n",
              "        [0.6669009 , 0.3998004 , 0.9178509 , 1.        ],\n",
              "        [0.25821447, 0.6472478 , 0.5483751 , 0.9966117 ],\n",
              "        [0.26170108, 0.69501585, 0.5194597 , 0.8827812 ],\n",
              "        [0.24328475, 0.5849496 , 0.7265721 , 0.96301997],\n",
              "        [0.463713  , 0.48964334, 0.8042518 , 0.98782367],\n",
              "        [0.25998077, 0.6405384 , 0.56215614, 0.9970566 ],\n",
              "        [0.24594612, 0.29098138, 0.83845377, 0.9348055 ],\n",
              "        [0.2522274 , 0.67431545, 0.54017985, 0.92594475],\n",
              "        [0.24936962, 0.645317  , 0.5523719 , 0.9952925 ],\n",
              "        [0.26366487, 0.17475334, 0.81817704, 0.9425886 ],\n",
              "        [0.25152633, 0.71626633, 0.5226876 , 0.8688866 ],\n",
              "        [0.26524115, 0.62336826, 0.5989035 , 1.        ],\n",
              "        [0.30139396, 0.4779663 , 0.79472554, 0.9826803 ],\n",
              "        [0.2784484 , 0.69028246, 0.48365864, 0.9067442 ],\n",
              "        [0.24903674, 0.6432562 , 0.5458691 , 0.99164927],\n",
              "        [0.24992871, 0.65151405, 0.55691534, 0.98684806],\n",
              "        [0.2543409 , 0.7256031 , 0.5210192 , 0.92367935],\n",
              "        [0.26571417, 0.57296807, 0.54529876, 0.91804695],\n",
              "        [0.27096796, 0.71626323, 0.4835278 , 0.94634306],\n",
              "        [0.32577452, 0.22904603, 0.7267078 , 0.9841265 ],\n",
              "        [0.24584642, 0.7446313 , 0.5199091 , 0.8952514 ],\n",
              "        [0.25662765, 0.6500297 , 0.56162196, 1.        ],\n",
              "        [0.22030833, 0.6060268 , 0.76337385, 0.98972505],\n",
              "        [0.25397506, 0.6488985 , 0.54965633, 0.9936905 ],\n",
              "        [0.29152718, 0.41244003, 0.57371515, 0.8758631 ],\n",
              "        [0.25244096, 0.649738  , 0.56458026, 0.99522585],\n",
              "        [0.26925254, 0.727015  , 0.60067433, 0.96987104],\n",
              "        [0.26366284, 0.68752927, 0.5893489 , 0.9592609 ],\n",
              "        [0.30633417, 0.4180832 , 0.73265195, 0.9112774 ],\n",
              "        [0.27057824, 0.7347487 , 0.4833634 , 0.9700374 ],\n",
              "        [0.4331809 , 0.46655303, 0.8650633 , 0.95322037],\n",
              "        [0.2545338 , 0.62720156, 0.55199957, 0.99773973],\n",
              "        [0.2798306 , 0.67782706, 0.5153728 , 0.8570232 ],\n",
              "        [0.24524842, 0.7451769 , 0.51787734, 0.95235103],\n",
              "        [0.23092817, 0.7678676 , 0.48220035, 0.88252306],\n",
              "        [0.2306333 , 0.7426866 , 0.48024017, 0.85660285],\n",
              "        [0.2428746 , 0.7278512 , 0.46595383, 0.9158214 ],\n",
              "        [0.25108752, 0.64521474, 0.5439045 , 0.9963897 ],\n",
              "        [0.2597947 , 0.6992361 , 0.5266175 , 0.8506352 ],\n",
              "        [0.23756574, 0.78519815, 0.4946458 , 0.9128772 ]], dtype=float32),\n",
              " 'raw_detection_scores': array([[1.6450994e-03, 9.9835485e-01],\n",
              "        [1.0009363e-03, 9.9899906e-01],\n",
              "        [2.4589533e-03, 9.9754107e-01],\n",
              "        [4.4977698e-03, 9.9550229e-01],\n",
              "        [2.6017819e-03, 9.9739826e-01],\n",
              "        [1.8246311e-03, 9.9817538e-01],\n",
              "        [2.2904605e-03, 9.9770951e-01],\n",
              "        [9.7077626e-01, 2.9223669e-02],\n",
              "        [2.7152358e-03, 9.9728477e-01],\n",
              "        [2.3221266e-01, 7.6778734e-01],\n",
              "        [9.9992812e-01, 7.1847040e-05],\n",
              "        [3.3189938e-03, 9.9668103e-01],\n",
              "        [9.9992347e-01, 7.6554046e-05],\n",
              "        [9.5936006e-01, 4.0639974e-02],\n",
              "        [1.0689703e-02, 9.8931026e-01],\n",
              "        [9.9941218e-01, 5.8786006e-04],\n",
              "        [6.2246425e-03, 9.9377537e-01],\n",
              "        [7.2738737e-01, 2.7261257e-01],\n",
              "        [9.9998629e-01, 1.3741715e-05],\n",
              "        [9.9645400e-01, 3.5460060e-03],\n",
              "        [9.9990296e-01, 9.7068470e-05],\n",
              "        [9.9999726e-01, 2.7767105e-06],\n",
              "        [9.9994028e-01, 5.9777871e-05],\n",
              "        [2.0821574e-01, 7.9178423e-01],\n",
              "        [9.9999928e-01, 6.6941959e-07],\n",
              "        [9.9999750e-01, 2.5280408e-06],\n",
              "        [1.7377184e-03, 9.9826235e-01],\n",
              "        [9.9999869e-01, 1.3494760e-06],\n",
              "        [9.9999738e-01, 2.5787451e-06],\n",
              "        [9.9970812e-01, 2.9181319e-04],\n",
              "        [9.9998963e-01, 1.0341169e-05],\n",
              "        [9.9996936e-01, 3.0679545e-05],\n",
              "        [6.4072222e-01, 3.5927776e-01],\n",
              "        [9.8301744e-01, 1.6982539e-02],\n",
              "        [9.9996948e-01, 3.0549130e-05],\n",
              "        [1.8601747e-01, 8.1398255e-01],\n",
              "        [9.9999321e-01, 6.7665464e-06],\n",
              "        [9.2228258e-01, 7.7717401e-02],\n",
              "        [9.9999416e-01, 5.8902524e-06],\n",
              "        [9.9435127e-01, 5.6487070e-03],\n",
              "        [9.9999714e-01, 2.8742224e-06],\n",
              "        [8.5320443e-01, 1.4679557e-01],\n",
              "        [9.3500650e-01, 6.4993531e-02],\n",
              "        [9.9555713e-01, 4.4428967e-03],\n",
              "        [9.9999845e-01, 1.5938087e-06],\n",
              "        [9.9999845e-01, 1.5851805e-06],\n",
              "        [9.9989772e-01, 1.0225324e-04],\n",
              "        [9.9999559e-01, 4.4654607e-06],\n",
              "        [9.9995852e-01, 4.1536565e-05],\n",
              "        [8.7068519e-03, 9.9129313e-01],\n",
              "        [9.9993002e-01, 7.0011301e-05],\n",
              "        [9.9999201e-01, 7.9773190e-06],\n",
              "        [9.9997234e-01, 2.7622640e-05],\n",
              "        [9.9998403e-01, 1.5954900e-05],\n",
              "        [9.9998748e-01, 1.2538686e-05],\n",
              "        [9.0997159e-01, 9.0028405e-02],\n",
              "        [9.9999642e-01, 3.5613230e-06],\n",
              "        [9.9999559e-01, 4.4652561e-06]], dtype=float32)}"
            ]
          },
          "metadata": {
            "tags": []
          },
          "execution_count": 127
        }
      ]
    },
    {
      "cell_type": "code",
      "metadata": {
        "id": "mYIo9QmipOUV"
      },
      "source": [
        ""
      ],
      "execution_count": null,
      "outputs": []
    }
  ]
}